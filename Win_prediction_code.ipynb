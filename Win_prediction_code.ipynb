{
 "cells": [
  {
   "cell_type": "code",
   "execution_count": 38,
   "metadata": {
    "ExecuteTime": {
     "end_time": "2021-02-27T10:35:42.914604Z",
     "start_time": "2021-02-27T10:35:42.896613Z"
    }
   },
   "outputs": [],
   "source": [
    "# importing libraries\n",
    "\n",
    "import numpy as np\n",
    "import pandas as pd\n",
    "from datetime import datetime as dt\n",
    "import warnings\n",
    "warnings.filterwarnings('ignore')\n",
    "import seaborn as sns\n",
    "import matplotlib.pyplot as plt\n",
    "import scipy.stats as stats\n",
    "from scipy.stats import chi2\n",
    "from sklearn.preprocessing import MinMaxScaler\n",
    "from sklearn.feature_selection import SelectKBest\n",
    "from sklearn.feature_selection import chi2\n",
    "from sklearn.ensemble import ExtraTreesClassifier\n",
    "from sklearn.svm import LinearSVC\n",
    "from sklearn.feature_selection import SelectFromModel\n",
    "from functools import reduce\n",
    "from statsmodels.stats.outliers_influence import variance_inflation_factor\n",
    "from imblearn.over_sampling import SMOTE\n",
    "from sklearn.model_selection import train_test_split\n",
    "from sklearn.model_selection import GridSearchCV\n",
    "from sklearn.linear_model import LogisticRegression\n",
    "from sklearn.feature_selection import RFE\n",
    "from sklearn import metrics\n",
    "from sklearn.model_selection import RandomizedSearchCV\n",
    "from sklearn.ensemble import RandomForestClassifier\n",
    "from sklearn.ensemble import GradientBoostingClassifier\n",
    "\n",
    "%matplotlib inline"
   ]
  },
  {
   "cell_type": "code",
   "execution_count": 39,
   "metadata": {
    "ExecuteTime": {
     "end_time": "2021-02-27T10:35:46.744132Z",
     "start_time": "2021-02-27T10:35:45.522778Z"
    }
   },
   "outputs": [],
   "source": [
    "# reading datafile\n",
    "data = pd.read_excel(\"Win_Prediction_Data.xlsx\")"
   ]
  },
  {
   "cell_type": "code",
   "execution_count": 41,
   "metadata": {
    "ExecuteTime": {
     "end_time": "2021-02-22T12:50:01.862459Z",
     "start_time": "2021-02-22T12:50:01.838461Z"
    }
   },
   "outputs": [
    {
     "data": {
      "text/html": [
       "<div>\n",
       "<style scoped>\n",
       "    .dataframe tbody tr th:only-of-type {\n",
       "        vertical-align: middle;\n",
       "    }\n",
       "\n",
       "    .dataframe tbody tr th {\n",
       "        vertical-align: top;\n",
       "    }\n",
       "\n",
       "    .dataframe thead th {\n",
       "        text-align: right;\n",
       "    }\n",
       "</style>\n",
       "<table border=\"1\" class=\"dataframe\">\n",
       "  <thead>\n",
       "    <tr style=\"text-align: right;\">\n",
       "      <th></th>\n",
       "      <th>Client Category</th>\n",
       "      <th>Solution Type</th>\n",
       "      <th>Deal Date</th>\n",
       "      <th>Sector</th>\n",
       "      <th>Location</th>\n",
       "      <th>VP Name</th>\n",
       "      <th>Manager Name</th>\n",
       "      <th>Deal Cost</th>\n",
       "      <th>Deal Status Code</th>\n",
       "    </tr>\n",
       "  </thead>\n",
       "  <tbody>\n",
       "    <tr>\n",
       "      <th>0</th>\n",
       "      <td>Telecom</td>\n",
       "      <td>Solution 7</td>\n",
       "      <td>2012-03-27</td>\n",
       "      <td>Sector 24</td>\n",
       "      <td>L5</td>\n",
       "      <td>Ekta Zutshi</td>\n",
       "      <td>Gopa Trilochana</td>\n",
       "      <td>150000.00</td>\n",
       "      <td>Won</td>\n",
       "    </tr>\n",
       "    <tr>\n",
       "      <th>1</th>\n",
       "      <td>Telecom</td>\n",
       "      <td>Solution 7</td>\n",
       "      <td>2012-09-25</td>\n",
       "      <td>Sector 24</td>\n",
       "      <td>L5</td>\n",
       "      <td>Ekta Zutshi</td>\n",
       "      <td>Gopa Trilochana</td>\n",
       "      <td>744705.88</td>\n",
       "      <td>Won</td>\n",
       "    </tr>\n",
       "    <tr>\n",
       "      <th>2</th>\n",
       "      <td>Internal</td>\n",
       "      <td>Solution 59</td>\n",
       "      <td>2011-08-01</td>\n",
       "      <td>Sector 20</td>\n",
       "      <td>Others</td>\n",
       "      <td>Ekta Zutshi</td>\n",
       "      <td>Russell Dahlen</td>\n",
       "      <td>60000.00</td>\n",
       "      <td>Lost</td>\n",
       "    </tr>\n",
       "    <tr>\n",
       "      <th>3</th>\n",
       "      <td>Internal</td>\n",
       "      <td>Solution 59</td>\n",
       "      <td>2011-04-28</td>\n",
       "      <td>Sector 20</td>\n",
       "      <td>Others</td>\n",
       "      <td>Ekta Zutshi</td>\n",
       "      <td>Russell Dahlen</td>\n",
       "      <td>60000.00</td>\n",
       "      <td>Lost</td>\n",
       "    </tr>\n",
       "    <tr>\n",
       "      <th>4</th>\n",
       "      <td>Internal</td>\n",
       "      <td>Solution 32</td>\n",
       "      <td>2011-06-03</td>\n",
       "      <td>Sector 20</td>\n",
       "      <td>Others</td>\n",
       "      <td>Ekta Zutshi</td>\n",
       "      <td>Russell Dahlen</td>\n",
       "      <td>80882.35</td>\n",
       "      <td>Lost</td>\n",
       "    </tr>\n",
       "  </tbody>\n",
       "</table>\n",
       "</div>"
      ],
      "text/plain": [
       "  Client Category Solution Type  Deal Date     Sector Location      VP Name  \\\n",
       "0         Telecom    Solution 7 2012-03-27  Sector 24       L5  Ekta Zutshi   \n",
       "1         Telecom    Solution 7 2012-09-25  Sector 24       L5  Ekta Zutshi   \n",
       "2        Internal   Solution 59 2011-08-01  Sector 20   Others  Ekta Zutshi   \n",
       "3        Internal   Solution 59 2011-04-28  Sector 20   Others  Ekta Zutshi   \n",
       "4        Internal   Solution 32 2011-06-03  Sector 20   Others  Ekta Zutshi   \n",
       "\n",
       "      Manager Name  Deal Cost Deal Status Code  \n",
       "0  Gopa Trilochana  150000.00              Won  \n",
       "1  Gopa Trilochana  744705.88              Won  \n",
       "2   Russell Dahlen   60000.00             Lost  \n",
       "3   Russell Dahlen   60000.00             Lost  \n",
       "4   Russell Dahlen   80882.35             Lost  "
      ]
     },
     "execution_count": 41,
     "metadata": {},
     "output_type": "execute_result"
    }
   ],
   "source": [
    "# looking into the dataset\n",
    "data.head()"
   ]
  },
  {
   "cell_type": "code",
   "execution_count": 4,
   "metadata": {
    "ExecuteTime": {
     "end_time": "2021-02-22T12:01:07.202725Z",
     "start_time": "2021-02-22T12:01:07.181738Z"
    }
   },
   "outputs": [
    {
     "name": "stdout",
     "output_type": "stream",
     "text": [
      "<class 'pandas.core.frame.DataFrame'>\n",
      "RangeIndex: 10061 entries, 0 to 10060\n",
      "Data columns (total 9 columns):\n",
      " #   Column            Non-Null Count  Dtype         \n",
      "---  ------            --------------  -----         \n",
      " 0   Client Category   9982 non-null   object        \n",
      " 1   Solution Type     10061 non-null  object        \n",
      " 2   Deal Date         10061 non-null  datetime64[ns]\n",
      " 3   Sector            10061 non-null  object        \n",
      " 4   Location          10061 non-null  object        \n",
      " 5   VP Name           10061 non-null  object        \n",
      " 6   Manager Name      10061 non-null  object        \n",
      " 7   Deal Cost         10061 non-null  float64       \n",
      " 8   Deal Status Code  10061 non-null  object        \n",
      "dtypes: datetime64[ns](1), float64(1), object(7)\n",
      "memory usage: 707.5+ KB\n"
     ]
    }
   ],
   "source": [
    "# dataset info about features and rows\n",
    "data.info()"
   ]
  },
  {
   "cell_type": "code",
   "execution_count": 5,
   "metadata": {
    "ExecuteTime": {
     "end_time": "2021-02-22T12:01:32.514303Z",
     "start_time": "2021-02-22T12:01:32.492316Z"
    }
   },
   "outputs": [
    {
     "data": {
      "text/html": [
       "<div>\n",
       "<style scoped>\n",
       "    .dataframe tbody tr th:only-of-type {\n",
       "        vertical-align: middle;\n",
       "    }\n",
       "\n",
       "    .dataframe tbody tr th {\n",
       "        vertical-align: top;\n",
       "    }\n",
       "\n",
       "    .dataframe thead th {\n",
       "        text-align: right;\n",
       "    }\n",
       "</style>\n",
       "<table border=\"1\" class=\"dataframe\">\n",
       "  <thead>\n",
       "    <tr style=\"text-align: right;\">\n",
       "      <th></th>\n",
       "      <th>Deal Cost</th>\n",
       "    </tr>\n",
       "  </thead>\n",
       "  <tbody>\n",
       "    <tr>\n",
       "      <th>count</th>\n",
       "      <td>1.006100e+04</td>\n",
       "    </tr>\n",
       "    <tr>\n",
       "      <th>mean</th>\n",
       "      <td>7.668969e+05</td>\n",
       "    </tr>\n",
       "    <tr>\n",
       "      <th>std</th>\n",
       "      <td>1.619894e+06</td>\n",
       "    </tr>\n",
       "    <tr>\n",
       "      <th>min</th>\n",
       "      <td>0.000000e+00</td>\n",
       "    </tr>\n",
       "    <tr>\n",
       "      <th>25%</th>\n",
       "      <td>1.897059e+05</td>\n",
       "    </tr>\n",
       "    <tr>\n",
       "      <th>50%</th>\n",
       "      <td>3.823529e+05</td>\n",
       "    </tr>\n",
       "    <tr>\n",
       "      <th>75%</th>\n",
       "      <td>7.647059e+05</td>\n",
       "    </tr>\n",
       "    <tr>\n",
       "      <th>max</th>\n",
       "      <td>3.676471e+07</td>\n",
       "    </tr>\n",
       "  </tbody>\n",
       "</table>\n",
       "</div>"
      ],
      "text/plain": [
       "          Deal Cost\n",
       "count  1.006100e+04\n",
       "mean   7.668969e+05\n",
       "std    1.619894e+06\n",
       "min    0.000000e+00\n",
       "25%    1.897059e+05\n",
       "50%    3.823529e+05\n",
       "75%    7.647059e+05\n",
       "max    3.676471e+07"
      ]
     },
     "execution_count": 5,
     "metadata": {},
     "output_type": "execute_result"
    }
   ],
   "source": [
    "# describtion of numeric features\n",
    "data.describe()"
   ]
  },
  {
   "cell_type": "code",
   "execution_count": 40,
   "metadata": {
    "ExecuteTime": {
     "end_time": "2021-02-27T10:35:51.003920Z",
     "start_time": "2021-02-27T10:35:50.963963Z"
    }
   },
   "outputs": [],
   "source": [
    "# converting string columns into samecase, lowercase string\n",
    "def same_case(*col):\n",
    "    for i in col:\n",
    "        data[i]=data[i].str.lower()\n",
    "same_case('Client Category','Solution Type','Sector','Location','VP Name','Manager Name')    "
   ]
  },
  {
   "cell_type": "code",
   "execution_count": 7,
   "metadata": {
    "ExecuteTime": {
     "end_time": "2021-02-22T12:02:01.282697Z",
     "start_time": "2021-02-22T12:02:01.221712Z"
    }
   },
   "outputs": [
    {
     "data": {
      "text/plain": [
       "'no. of duplicate records '"
      ]
     },
     "metadata": {},
     "output_type": "display_data"
    },
    {
     "data": {
      "text/plain": [
       "14"
      ]
     },
     "metadata": {},
     "output_type": "display_data"
    },
    {
     "data": {
      "text/plain": [
       "'duplicate records '"
      ]
     },
     "metadata": {},
     "output_type": "display_data"
    },
    {
     "data": {
      "text/html": [
       "<div>\n",
       "<style scoped>\n",
       "    .dataframe tbody tr th:only-of-type {\n",
       "        vertical-align: middle;\n",
       "    }\n",
       "\n",
       "    .dataframe tbody tr th {\n",
       "        vertical-align: top;\n",
       "    }\n",
       "\n",
       "    .dataframe thead th {\n",
       "        text-align: right;\n",
       "    }\n",
       "</style>\n",
       "<table border=\"1\" class=\"dataframe\">\n",
       "  <thead>\n",
       "    <tr style=\"text-align: right;\">\n",
       "      <th></th>\n",
       "      <th>Client Category</th>\n",
       "      <th>Solution Type</th>\n",
       "      <th>Deal Date</th>\n",
       "      <th>Sector</th>\n",
       "      <th>Location</th>\n",
       "      <th>VP Name</th>\n",
       "      <th>Manager Name</th>\n",
       "      <th>Deal Cost</th>\n",
       "      <th>Deal Status Code</th>\n",
       "    </tr>\n",
       "  </thead>\n",
       "  <tbody>\n",
       "    <tr>\n",
       "      <th>3036</th>\n",
       "      <td>domestic public bank</td>\n",
       "      <td>solution 32</td>\n",
       "      <td>2015-03-20</td>\n",
       "      <td>sector 2</td>\n",
       "      <td>l7</td>\n",
       "      <td>rosanna maynez</td>\n",
       "      <td>earline langton</td>\n",
       "      <td>735294.12</td>\n",
       "      <td>Lost</td>\n",
       "    </tr>\n",
       "    <tr>\n",
       "      <th>3385</th>\n",
       "      <td>tech</td>\n",
       "      <td>solution 32</td>\n",
       "      <td>2015-07-31</td>\n",
       "      <td>sector 2</td>\n",
       "      <td>l10</td>\n",
       "      <td>long bergstrom</td>\n",
       "      <td>emil knudsen</td>\n",
       "      <td>235294.12</td>\n",
       "      <td>Lost</td>\n",
       "    </tr>\n",
       "    <tr>\n",
       "      <th>3880</th>\n",
       "      <td>telecom</td>\n",
       "      <td>solution 12</td>\n",
       "      <td>2013-08-30</td>\n",
       "      <td>sector 24</td>\n",
       "      <td>others</td>\n",
       "      <td>mangesh k. singh</td>\n",
       "      <td>sohil kumar</td>\n",
       "      <td>588235.29</td>\n",
       "      <td>Lost</td>\n",
       "    </tr>\n",
       "    <tr>\n",
       "      <th>5037</th>\n",
       "      <td>tech</td>\n",
       "      <td>solution 13</td>\n",
       "      <td>2012-05-08</td>\n",
       "      <td>sector 23</td>\n",
       "      <td>l5</td>\n",
       "      <td>sargar deep rao</td>\n",
       "      <td>karan dubey</td>\n",
       "      <td>0.00</td>\n",
       "      <td>Lost</td>\n",
       "    </tr>\n",
       "    <tr>\n",
       "      <th>7637</th>\n",
       "      <td>govt</td>\n",
       "      <td>solution 34</td>\n",
       "      <td>2018-02-21</td>\n",
       "      <td>sector 4</td>\n",
       "      <td>l10</td>\n",
       "      <td>mervin harwood</td>\n",
       "      <td>akshay sharma</td>\n",
       "      <td>602941.18</td>\n",
       "      <td>Lost</td>\n",
       "    </tr>\n",
       "    <tr>\n",
       "      <th>7705</th>\n",
       "      <td>internal</td>\n",
       "      <td>solution 9</td>\n",
       "      <td>2015-01-06</td>\n",
       "      <td>sector 20</td>\n",
       "      <td>others</td>\n",
       "      <td>sargar deep rao</td>\n",
       "      <td>brenton launius</td>\n",
       "      <td>2120294.12</td>\n",
       "      <td>Lost</td>\n",
       "    </tr>\n",
       "    <tr>\n",
       "      <th>7718</th>\n",
       "      <td>services_based</td>\n",
       "      <td>solution 26</td>\n",
       "      <td>2018-02-11</td>\n",
       "      <td>sector 17</td>\n",
       "      <td>l10</td>\n",
       "      <td>molly eakes</td>\n",
       "      <td>vansu dev</td>\n",
       "      <td>264705.88</td>\n",
       "      <td>Lost</td>\n",
       "    </tr>\n",
       "    <tr>\n",
       "      <th>8020</th>\n",
       "      <td>internal</td>\n",
       "      <td>solution 9</td>\n",
       "      <td>2015-07-02</td>\n",
       "      <td>sector 2</td>\n",
       "      <td>l9</td>\n",
       "      <td>sargar deep rao</td>\n",
       "      <td>rahul kocher</td>\n",
       "      <td>264705.88</td>\n",
       "      <td>Lost</td>\n",
       "    </tr>\n",
       "    <tr>\n",
       "      <th>8167</th>\n",
       "      <td>infrastructure</td>\n",
       "      <td>solution 9</td>\n",
       "      <td>2015-05-18</td>\n",
       "      <td>sector 24</td>\n",
       "      <td>l10</td>\n",
       "      <td>mervin harwood</td>\n",
       "      <td>nahar singh</td>\n",
       "      <td>352941.18</td>\n",
       "      <td>Lost</td>\n",
       "    </tr>\n",
       "    <tr>\n",
       "      <th>8177</th>\n",
       "      <td>services_based</td>\n",
       "      <td>solution 9</td>\n",
       "      <td>2015-10-03</td>\n",
       "      <td>sector 23</td>\n",
       "      <td>l1</td>\n",
       "      <td>ankita aggarwal</td>\n",
       "      <td>bhagwati prasad</td>\n",
       "      <td>147058.82</td>\n",
       "      <td>Lost</td>\n",
       "    </tr>\n",
       "    <tr>\n",
       "      <th>8730</th>\n",
       "      <td>others</td>\n",
       "      <td>solution 9</td>\n",
       "      <td>2016-06-14</td>\n",
       "      <td>sector 23</td>\n",
       "      <td>l4</td>\n",
       "      <td>rosanna maynez</td>\n",
       "      <td>devendra vishvakarma</td>\n",
       "      <td>294117.65</td>\n",
       "      <td>Lost</td>\n",
       "    </tr>\n",
       "    <tr>\n",
       "      <th>8905</th>\n",
       "      <td>domestic private bank</td>\n",
       "      <td>solution 9</td>\n",
       "      <td>2016-08-22</td>\n",
       "      <td>sector 2</td>\n",
       "      <td>l1</td>\n",
       "      <td>rosanna maynez</td>\n",
       "      <td>ram kumar</td>\n",
       "      <td>294117.65</td>\n",
       "      <td>Lost</td>\n",
       "    </tr>\n",
       "    <tr>\n",
       "      <th>9208</th>\n",
       "      <td>international bank</td>\n",
       "      <td>solution 54</td>\n",
       "      <td>2018-08-02</td>\n",
       "      <td>sector 2</td>\n",
       "      <td>l10</td>\n",
       "      <td>mervin harwood</td>\n",
       "      <td>rosana yokum</td>\n",
       "      <td>235294.12</td>\n",
       "      <td>Lost</td>\n",
       "    </tr>\n",
       "    <tr>\n",
       "      <th>9462</th>\n",
       "      <td>internal</td>\n",
       "      <td>solution 9</td>\n",
       "      <td>2017-12-22</td>\n",
       "      <td>sector 20</td>\n",
       "      <td>others</td>\n",
       "      <td>hardeep suksma</td>\n",
       "      <td>raj pinani</td>\n",
       "      <td>588235.29</td>\n",
       "      <td>Lost</td>\n",
       "    </tr>\n",
       "  </tbody>\n",
       "</table>\n",
       "</div>"
      ],
      "text/plain": [
       "            Client Category Solution Type  Deal Date     Sector Location  \\\n",
       "3036   domestic public bank   solution 32 2015-03-20   sector 2       l7   \n",
       "3385                   tech   solution 32 2015-07-31   sector 2      l10   \n",
       "3880                telecom   solution 12 2013-08-30  sector 24   others   \n",
       "5037                   tech   solution 13 2012-05-08  sector 23       l5   \n",
       "7637                   govt   solution 34 2018-02-21   sector 4      l10   \n",
       "7705               internal    solution 9 2015-01-06  sector 20   others   \n",
       "7718         services_based   solution 26 2018-02-11  sector 17      l10   \n",
       "8020               internal    solution 9 2015-07-02   sector 2       l9   \n",
       "8167         infrastructure    solution 9 2015-05-18  sector 24      l10   \n",
       "8177         services_based    solution 9 2015-10-03  sector 23       l1   \n",
       "8730                 others    solution 9 2016-06-14  sector 23       l4   \n",
       "8905  domestic private bank    solution 9 2016-08-22   sector 2       l1   \n",
       "9208     international bank   solution 54 2018-08-02   sector 2      l10   \n",
       "9462               internal    solution 9 2017-12-22  sector 20   others   \n",
       "\n",
       "               VP Name          Manager Name   Deal Cost Deal Status Code  \n",
       "3036    rosanna maynez       earline langton   735294.12             Lost  \n",
       "3385    long bergstrom          emil knudsen   235294.12             Lost  \n",
       "3880  mangesh k. singh           sohil kumar   588235.29             Lost  \n",
       "5037   sargar deep rao           karan dubey        0.00             Lost  \n",
       "7637    mervin harwood         akshay sharma   602941.18             Lost  \n",
       "7705   sargar deep rao       brenton launius  2120294.12             Lost  \n",
       "7718       molly eakes             vansu dev   264705.88             Lost  \n",
       "8020   sargar deep rao          rahul kocher   264705.88             Lost  \n",
       "8167    mervin harwood           nahar singh   352941.18             Lost  \n",
       "8177   ankita aggarwal       bhagwati prasad   147058.82             Lost  \n",
       "8730    rosanna maynez  devendra vishvakarma   294117.65             Lost  \n",
       "8905    rosanna maynez             ram kumar   294117.65             Lost  \n",
       "9208    mervin harwood          rosana yokum   235294.12             Lost  \n",
       "9462    hardeep suksma            raj pinani   588235.29             Lost  "
      ]
     },
     "metadata": {},
     "output_type": "display_data"
    }
   ],
   "source": [
    "# displaying the duplicate records in dataset\n",
    "display(\"no. of duplicate records \",data.duplicated().sum(), \"duplicate records \",data.loc[data.duplicated()])"
   ]
  },
  {
   "cell_type": "code",
   "execution_count": 41,
   "metadata": {
    "ExecuteTime": {
     "end_time": "2021-02-27T10:35:53.708861Z",
     "start_time": "2021-02-27T10:35:53.673882Z"
    }
   },
   "outputs": [],
   "source": [
    "# removing duplicate records\n",
    "def dup_remove(df):\n",
    "    df.drop_duplicates(inplace = True)\n",
    "    assert df.duplicated().sum() == 0\n",
    "    \n",
    "dup_remove(data)"
   ]
  },
  {
   "cell_type": "code",
   "execution_count": 42,
   "metadata": {
    "ExecuteTime": {
     "end_time": "2021-02-27T10:35:54.979972Z",
     "start_time": "2021-02-27T10:35:54.965980Z"
    }
   },
   "outputs": [
    {
     "name": "stdout",
     "output_type": "stream",
     "text": [
      "Client Category     79\n",
      "Solution Type        0\n",
      "Deal Date            0\n",
      "Sector               0\n",
      "Location             0\n",
      "VP Name              0\n",
      "Manager Name         0\n",
      "Deal Cost            0\n",
      "Deal Status Code     0\n",
      "dtype: int64\n"
     ]
    }
   ],
   "source": [
    "# checking the missing values in all features\n",
    "def check_missing(df):\n",
    "    print(df.isna().sum())\n",
    "check_missing(data)"
   ]
  },
  {
   "cell_type": "code",
   "execution_count": 10,
   "metadata": {
    "ExecuteTime": {
     "end_time": "2021-02-22T12:02:39.684740Z",
     "start_time": "2021-02-22T12:02:39.677744Z"
    }
   },
   "outputs": [
    {
     "data": {
      "text/plain": [
       "'others'"
      ]
     },
     "execution_count": 10,
     "metadata": {},
     "output_type": "execute_result"
    }
   ],
   "source": [
    "## mostly occured category in client feature\n",
    "data[\"Client Category\"].mode()[0]"
   ]
  },
  {
   "cell_type": "code",
   "execution_count": 43,
   "metadata": {
    "ExecuteTime": {
     "end_time": "2021-02-27T10:35:58.219234Z",
     "start_time": "2021-02-27T10:35:58.210240Z"
    }
   },
   "outputs": [],
   "source": [
    "# replacing the missing client category by its mode category as number of missing values is 0.007 percent of the total count\n",
    "# and no other trend or pattern is observed.\n",
    "def impute_missing_by_mode(df,col):\n",
    "    df[col].fillna(df[col].mode()[0],inplace=True)\n",
    "    \n",
    "    \n",
    "impute_missing_by_mode(data,\"Client Category\")"
   ]
  },
  {
   "cell_type": "code",
   "execution_count": 12,
   "metadata": {
    "ExecuteTime": {
     "end_time": "2021-02-22T12:03:05.346158Z",
     "start_time": "2021-02-22T12:03:05.321180Z"
    }
   },
   "outputs": [
    {
     "name": "stdout",
     "output_type": "stream",
     "text": [
      "Client Category : 41 labels\n",
      "Solution Type : 67 labels\n",
      "Deal Date : 2555 labels\n",
      "Sector : 25 labels\n",
      "Location : 13 labels\n",
      "VP Name : 43 labels\n",
      "Manager Name : 278 labels\n",
      "Deal Cost : 1469 labels\n",
      "Deal Status Code : 2 labels\n"
     ]
    }
   ],
   "source": [
    "# counting the number of categories in each feature\n",
    "for i in data.columns[:]:\n",
    "    print(i,\":\",len(data[i].unique()),'labels')"
   ]
  },
  {
   "cell_type": "code",
   "execution_count": 13,
   "metadata": {
    "ExecuteTime": {
     "end_time": "2021-02-22T12:03:21.004040Z",
     "start_time": "2021-02-22T12:03:20.947090Z"
    }
   },
   "outputs": [
    {
     "name": "stdout",
     "output_type": "stream",
     "text": [
      "Client Category\n",
      "\n",
      "others                   1841\n",
      "internal                 1451\n",
      "services_based           1200\n",
      "tech                      911\n",
      "domestic public bank      418\n",
      "international bank        375\n",
      "consulting                352\n",
      "finance                   339\n",
      "telecom                   326\n",
      "power ind                 264\n",
      "domestic private bank     261\n",
      "insurance                 247\n",
      "consumer good             185\n",
      "automobiles               178\n",
      "infrastructure            151\n",
      "domestic bank             134\n",
      "retail_market             126\n",
      "govt                      120\n",
      "hospitality               119\n",
      "manufacturing             117\n",
      "pharma                    110\n",
      "healthcare                 99\n",
      "electronics                81\n",
      "media_journal              71\n",
      "industries                 66\n",
      "research development       63\n",
      "energy                     57\n",
      "knowledge                  50\n",
      "management                 43\n",
      "govt bank special          41\n",
      "payment                    40\n",
      "energy                     37\n",
      "e-commerce                 32\n",
      "airpline                   27\n",
      "holding                    25\n",
      "international org          25\n",
      "logistics                  20\n",
      "real estate                19\n",
      "share_market               14\n",
      "tax_audit                   7\n",
      "medical                     5\n",
      "Name: Client Category, dtype: int64\n",
      "Solution Type\n",
      "\n",
      "solution 32    1437\n",
      "solution 9     1411\n",
      "solution 10    1016\n",
      "solution 39     585\n",
      "solution 67     584\n",
      "               ... \n",
      "solution 64       1\n",
      "solution 60       1\n",
      "solution 57       1\n",
      "solution 56       1\n",
      "solution 66       1\n",
      "Name: Solution Type, Length: 67, dtype: int64\n",
      "Deal Date\n",
      "\n",
      "2018-07-27    15\n",
      "2018-01-31    15\n",
      "2018-06-18    14\n",
      "2018-06-09    14\n",
      "2018-08-24    13\n",
      "              ..\n",
      "2017-07-28     1\n",
      "2013-04-21     1\n",
      "2012-12-16     1\n",
      "2012-04-01     1\n",
      "2019-03-06     1\n",
      "Name: Deal Date, Length: 2555, dtype: int64\n",
      "Sector\n",
      "\n",
      "sector 23    2690\n",
      "sector 2     1743\n",
      "sector 20     771\n",
      "sector 12     607\n",
      "sector 24     576\n",
      "sector 16     474\n",
      "sector 17     473\n",
      "sector 15     387\n",
      "sector 9      369\n",
      "sector 25     273\n",
      "sector 18     251\n",
      "sector 1      231\n",
      "sector 13     185\n",
      "sector 22     144\n",
      "sector 19     142\n",
      "sector 3      135\n",
      "sector 4      127\n",
      "sector 11     114\n",
      "sector 14     109\n",
      "sector 6       96\n",
      "sector 5       64\n",
      "sector 8       39\n",
      "sector 21      30\n",
      "sector 7       14\n",
      "sector 10       3\n",
      "Name: Sector, dtype: int64\n",
      "Location\n",
      "\n",
      "l10       3355\n",
      "l5        2327\n",
      "l1        1570\n",
      "others     814\n",
      "l3         556\n",
      "l11        367\n",
      "l12        276\n",
      "l9         239\n",
      "l7         237\n",
      "l4         187\n",
      "l6         100\n",
      "l8          11\n",
      "l2           8\n",
      "Name: Location, dtype: int64\n",
      "VP Name\n",
      "\n",
      "mervin harwood         1163\n",
      "ankita aggarwal        1142\n",
      "sargar deep rao         953\n",
      "long bergstrom          920\n",
      "mangesh k. singh        811\n",
      "rosanna maynez          659\n",
      "ekta zutshi             550\n",
      "rahul bajpai            523\n",
      "neeraj kumar            471\n",
      "son mcconnaughy         232\n",
      "som dutt                220\n",
      "hardeep suksma          207\n",
      "brendon wycoff          189\n",
      "clinton mani            184\n",
      "saurabh singh           176\n",
      "jewell tunstall         156\n",
      "rudraksh sharma         147\n",
      "gopa trilochana         136\n",
      "russell dahlen          133\n",
      "alam syed               126\n",
      "molly eakes             125\n",
      "gaurav sameria          114\n",
      "varsha arora            104\n",
      "gayle molter            104\n",
      "vidur hukle             100\n",
      "earline langton          82\n",
      "manpreet singh           46\n",
      "mayank mewar             41\n",
      "marcella mo              32\n",
      "rahul kocher             32\n",
      "man suddeth              29\n",
      "jitendra choudhary       28\n",
      "prashant rawat           27\n",
      "lilli storrs             26\n",
      "vikram rawat             17\n",
      "kamelesh srinivasan      15\n",
      "dennis faux              13\n",
      "visvajeet das             3\n",
      "waylon mulder             3\n",
      "p. somya                  2\n",
      "kirk hofmeister           2\n",
      "md. afsar                 2\n",
      "sarthak batra             2\n",
      "Name: VP Name, dtype: int64\n",
      "Manager Name\n",
      "\n",
      "molly eakes        323\n",
      "rudraksh sharma    270\n",
      "desmond krout      230\n",
      "gayle molter       186\n",
      "manpreet singh     181\n",
      "                  ... \n",
      "lokesh pinani        1\n",
      "heath mullarkey      1\n",
      "pooran chand         1\n",
      "aastha gandhi        1\n",
      "taran singh          1\n",
      "Name: Manager Name, Length: 278, dtype: int64\n",
      "Deal Cost\n",
      "\n",
      "294117.65     506\n",
      "588235.29     388\n",
      "441176.47     377\n",
      "147058.82     362\n",
      "0.00          245\n",
      "             ... \n",
      "77352.94        1\n",
      "111176.47       1\n",
      "155588.24       1\n",
      "2163529.41      1\n",
      "230294.12       1\n",
      "Name: Deal Cost, Length: 1469, dtype: int64\n",
      "Deal Status Code\n",
      "\n",
      "Lost    6292\n",
      "Won     3755\n",
      "Name: Deal Status Code, dtype: int64\n"
     ]
    }
   ],
   "source": [
    "# displaying all categories of features, featurewise.\n",
    "def value_count(df):\n",
    "    for i in df.columns:\n",
    "        print(i,end=\"\\n\\n\")\n",
    "        print(data[i].value_counts())\n",
    "        \n",
    "value_count(data)"
   ]
  },
  {
   "cell_type": "code",
   "execution_count": 7,
   "metadata": {
    "ExecuteTime": {
     "end_time": "2021-02-22T17:33:56.190428Z",
     "start_time": "2021-02-22T17:33:55.872091Z"
    }
   },
   "outputs": [
    {
     "name": "stdout",
     "output_type": "stream",
     "text": [
      "Degree of Freedom:- 40\n",
      "chi-square statistic:- 336.08990336417054\n",
      "critical_value: 55.75847927888702\n",
      "Reject H0,There is a relationship between  Client Category  and Deal Status Code\n",
      "Degree of Freedom:- 2554\n",
      "chi-square statistic:- 2745.2033065952082\n",
      "critical_value: 2672.684138420052\n",
      "Reject H0,There is a relationship between  Deal Date  and Deal Status Code\n",
      "Degree of Freedom:- 12\n",
      "chi-square statistic:- 135.13775740237162\n",
      "critical_value: 21.02606981748307\n",
      "Reject H0,There is a relationship between  Location  and Deal Status Code\n",
      "Degree of Freedom:- 277\n",
      "chi-square statistic:- 1203.8302583598988\n",
      "critical_value: 316.8185115385132\n",
      "Reject H0,There is a relationship between  Manager Name  and Deal Status Code\n",
      "Degree of Freedom:- 24\n",
      "chi-square statistic:- 167.99910626155884\n",
      "critical_value: 36.41502850180731\n",
      "Reject H0,There is a relationship between  Sector  and Deal Status Code\n",
      "Degree of Freedom:- 66\n",
      "chi-square statistic:- 649.7308294387966\n",
      "critical_value: 85.96490744123096\n",
      "Reject H0,There is a relationship between  Solution Type  and Deal Status Code\n",
      "Degree of Freedom:- 42\n",
      "chi-square statistic:- 434.8322932909745\n",
      "critical_value: 58.12403768086803\n",
      "Reject H0,There is a relationship between  VP Name  and Deal Status Code\n"
     ]
    }
   ],
   "source": [
    "## assosiation between catagorical features and catagorical target\n",
    "def chisquare_test(data,target):\n",
    "    from scipy.stats import chi2\n",
    "    for i in data[data.columns.difference([target])]:\n",
    "        crosstab = pd.crosstab(data[i], data[target])\n",
    "        val = stats.chi2_contingency(crosstab)\n",
    "        Observed_values = crosstab.values\n",
    "        Expected_values = val[3]\n",
    "        no_of_rows=len(crosstab.iloc[:,0])\n",
    "        no_of_columns=len(crosstab.iloc[0,:])\n",
    "        ddof=(no_of_rows-1)*(no_of_columns-1)\n",
    "        print(\"Degree of Freedom:-\",ddof)\n",
    "        alpha = 0.05\n",
    "        chi_square=sum([(o-e)**2./e for o,e in zip(Observed_values,Expected_values)])\n",
    "        chi_square_statistic=chi_square[0]+chi_square[1]\n",
    "        print(\"chi-square statistic:-\",chi_square_statistic)\n",
    "\n",
    "        critical_value=chi2.ppf(q=1-alpha,df=ddof)\n",
    "        print('critical_value:',critical_value)\n",
    "\n",
    "        if chi_square_statistic>=critical_value:\n",
    "            print(\"Reject H0,There is a relationship between \",i, \" and\", target)\n",
    "        else:\n",
    "            print(\"Retain H0,There is no relationship between \",i, \" and\", target)\n",
    "chisquare_test(data[data.columns.difference(['Deal Cost'])],\"Deal Status Code\")"
   ]
  },
  {
   "cell_type": "code",
   "execution_count": 44,
   "metadata": {
    "ExecuteTime": {
     "end_time": "2021-02-27T10:36:16.697603Z",
     "start_time": "2021-02-27T10:36:16.686607Z"
    }
   },
   "outputs": [],
   "source": [
    "# labeling the target : WIN :1 AND LOST 0\n",
    "def encoding(df,*a):\n",
    "    from sklearn.preprocessing import LabelEncoder\n",
    "    encode = LabelEncoder()\n",
    "    for i in a:\n",
    "        df[i] = encode.fit_transform(df[i])\n",
    "encoding(data,\"Deal Status Code\")"
   ]
  },
  {
   "cell_type": "code",
   "execution_count": 9,
   "metadata": {
    "ExecuteTime": {
     "end_time": "2021-02-22T17:36:42.976505Z",
     "start_time": "2021-02-22T17:36:42.955592Z"
    }
   },
   "outputs": [
    {
     "data": {
      "text/html": [
       "<div>\n",
       "<style scoped>\n",
       "    .dataframe tbody tr th:only-of-type {\n",
       "        vertical-align: middle;\n",
       "    }\n",
       "\n",
       "    .dataframe tbody tr th {\n",
       "        vertical-align: top;\n",
       "    }\n",
       "\n",
       "    .dataframe thead th {\n",
       "        text-align: right;\n",
       "    }\n",
       "</style>\n",
       "<table border=\"1\" class=\"dataframe\">\n",
       "  <thead>\n",
       "    <tr style=\"text-align: right;\">\n",
       "      <th></th>\n",
       "      <th>Deal Cost</th>\n",
       "      <th>Deal Status Code</th>\n",
       "    </tr>\n",
       "  </thead>\n",
       "  <tbody>\n",
       "    <tr>\n",
       "      <th>Deal Cost</th>\n",
       "      <td>1.000000</td>\n",
       "      <td>0.008474</td>\n",
       "    </tr>\n",
       "    <tr>\n",
       "      <th>Deal Status Code</th>\n",
       "      <td>0.008474</td>\n",
       "      <td>1.000000</td>\n",
       "    </tr>\n",
       "  </tbody>\n",
       "</table>\n",
       "</div>"
      ],
      "text/plain": [
       "                  Deal Cost  Deal Status Code\n",
       "Deal Cost          1.000000          0.008474\n",
       "Deal Status Code   0.008474          1.000000"
      ]
     },
     "metadata": {},
     "output_type": "display_data"
    }
   ],
   "source": [
    "# checking the correlation between target and deal cost\n",
    "display(data.corr())\n",
    "## not much correlation between the features is observed."
   ]
  },
  {
   "cell_type": "code",
   "execution_count": 45,
   "metadata": {
    "ExecuteTime": {
     "end_time": "2021-02-27T10:36:23.107506Z",
     "start_time": "2021-02-27T10:36:23.082520Z"
    }
   },
   "outputs": [],
   "source": [
    "# encoding the manager and vp name features by mean encoding:\n",
    "# aroung 257 categories in manager\n",
    "# around 43 categories in vp name \n",
    "def mean_encoding(df,target,i):\n",
    "    mean_nominal=df.groupby(i)[target].mean().to_dict()\n",
    "    df[i]=df[i].map(mean_nominal)\n",
    "    return df[i]\n",
    "data[\"VP Name\"] = mean_encoding(data,\"Deal Status Code\",\"VP Name\")\n",
    "data[\"Manager Name\"] = mean_encoding(data,\"Deal Status Code\",\"Manager Name\")"
   ]
  },
  {
   "cell_type": "code",
   "execution_count": 46,
   "metadata": {
    "ExecuteTime": {
     "end_time": "2021-02-27T10:36:36.761602Z",
     "start_time": "2021-02-27T10:36:36.739614Z"
    }
   },
   "outputs": [],
   "source": [
    "# one hot encoding in soltuion type,sector,location and client category\n",
    "def dummy_encode(data,*a):\n",
    "    df = pd.concat([pd.get_dummies(data[col],drop_first = True,prefix = col) for col in a],axis =1)\n",
    "    return df\n",
    "df = dummy_encode(data,\"Solution Type\",\"Sector\",\"Location\",\"Client Category\")"
   ]
  },
  {
   "cell_type": "code",
   "execution_count": 47,
   "metadata": {
    "ExecuteTime": {
     "end_time": "2021-02-27T10:36:46.830090Z",
     "start_time": "2021-02-27T10:36:46.797091Z"
    }
   },
   "outputs": [],
   "source": [
    "# removing outliers in deal cost\n",
    "def Outliers(df):\n",
    "    for i in df.columns:\n",
    "        if (df[i].dtype == 'float64'):\n",
    "            Q1,Q3 = np.percentile(df[i],[25,75])\n",
    "            IQR = Q3 - Q1\n",
    "            lower = Q1- (1.5*IQR)\n",
    "            upper = Q3 +(1.5*IQR)\n",
    "            df[i] = df[i].apply(lambda x : lower if x < Q1 else upper if x > Q3 else x)\n",
    "\n",
    "Outliers(data)"
   ]
  },
  {
   "cell_type": "code",
   "execution_count": 48,
   "metadata": {
    "ExecuteTime": {
     "end_time": "2021-02-27T10:36:49.127387Z",
     "start_time": "2021-02-27T10:36:49.115374Z"
    }
   },
   "outputs": [],
   "source": [
    "df[['Deal Cost','Deal Status Code','VP Name','Manager Name']]=data[['Deal Cost','Deal Status Code','VP Name','Manager Name']]"
   ]
  },
  {
   "cell_type": "code",
   "execution_count": 49,
   "metadata": {
    "ExecuteTime": {
     "end_time": "2021-02-27T10:36:54.000133Z",
     "start_time": "2021-02-27T10:36:53.973133Z"
    }
   },
   "outputs": [
    {
     "data": {
      "text/plain": [
       "quater\n",
       "quater 2     863\n",
       "quater 1     908\n",
       "quater 3     959\n",
       "quater 4    1025\n",
       "Name: Deal Status Code, dtype: int32"
      ]
     },
     "metadata": {},
     "output_type": "display_data"
    }
   ],
   "source": [
    "# feature engineering : generating the deal quaters from the new data having only unique dates\n",
    "# and sum of win deals of unique dates and then order labelling them according to the win deals.\n",
    "data['Month'] = data['Deal Date'].dt.month\n",
    "bins = [0,3,6,9,12]\n",
    "labels = [\"quater 1\",\"quater 2\",\"quater 3\",\"quater 4\"]\n",
    "data['quater'] = pd.cut(data['Month'], bins,labels=labels)\n",
    "display((data.groupby(['quater'])['Deal Status Code'].sum()).sort_values(ascending = True))\n",
    "a = {'quater 1':2,'quater 2':1,'quater 3':3,'quater 4':4}\n",
    "\n",
    "data['Quater'] = data.quater.map(a)\n",
    "df['Quater'] = data['Quater']"
   ]
  },
  {
   "cell_type": "code",
   "execution_count": 50,
   "metadata": {
    "ExecuteTime": {
     "end_time": "2021-02-27T10:37:01.614269Z",
     "start_time": "2021-02-27T10:37:01.593273Z"
    }
   },
   "outputs": [],
   "source": [
    "# scaling columns having count value greater than 1 , between 0 and 1.\n",
    "def scaled_data(df,*a):\n",
    "    to_scale = [col for col in a if df[col].max() > 1]\n",
    "    mms = MinMaxScaler()\n",
    "    scaled = mms.fit_transform(df[to_scale])\n",
    "    scaled = pd.DataFrame(scaled, columns=to_scale)\n",
    "\n",
    "    # Replace original columns with scaled ones\n",
    "    for col in scaled:\n",
    "        df[col] = scaled[col]\n",
    "scaled_data(df,'Deal Cost','Quater')"
   ]
  },
  {
   "cell_type": "code",
   "execution_count": 16,
   "metadata": {
    "ExecuteTime": {
     "end_time": "2021-02-22T17:40:34.538496Z",
     "start_time": "2021-02-22T17:40:34.527543Z"
    }
   },
   "outputs": [
    {
     "name": "stdout",
     "output_type": "stream",
     "text": [
      "Solution Type_solution 10     0\n",
      "Solution Type_solution 11     0\n",
      "Solution Type_solution 12     0\n",
      "Solution Type_solution 13     0\n",
      "Solution Type_solution 14     0\n",
      "                             ..\n",
      "Deal Cost                    14\n",
      "Deal Status Code              0\n",
      "VP Name                       0\n",
      "Manager Name                  0\n",
      "Quater                       14\n",
      "Length: 147, dtype: int64\n"
     ]
    }
   ],
   "source": [
    "# checking if there are any missing values after scaling.\n",
    "\n",
    "check_missing(df)"
   ]
  },
  {
   "cell_type": "code",
   "execution_count": 51,
   "metadata": {
    "ExecuteTime": {
     "end_time": "2021-02-27T10:37:05.226133Z",
     "start_time": "2021-02-27T10:37:05.208125Z"
    }
   },
   "outputs": [],
   "source": [
    "# removing the missing values as only 14 values are missing out of 10030 records\n",
    "df.dropna(inplace = True)"
   ]
  },
  {
   "cell_type": "code",
   "execution_count": 53,
   "metadata": {
    "ExecuteTime": {
     "end_time": "2021-02-27T10:37:17.501023Z",
     "start_time": "2021-02-27T10:37:17.309118Z"
    }
   },
   "outputs": [
    {
     "data": {
      "text/html": [
       "<div>\n",
       "<style scoped>\n",
       "    .dataframe tbody tr th:only-of-type {\n",
       "        vertical-align: middle;\n",
       "    }\n",
       "\n",
       "    .dataframe tbody tr th {\n",
       "        vertical-align: top;\n",
       "    }\n",
       "\n",
       "    .dataframe thead th {\n",
       "        text-align: right;\n",
       "    }\n",
       "</style>\n",
       "<table border=\"1\" class=\"dataframe\">\n",
       "  <thead>\n",
       "    <tr style=\"text-align: right;\">\n",
       "      <th></th>\n",
       "      <th>skew</th>\n",
       "      <th>kurtosis</th>\n",
       "    </tr>\n",
       "  </thead>\n",
       "  <tbody>\n",
       "    <tr>\n",
       "      <th>Deal Cost</th>\n",
       "      <td>0.117139</td>\n",
       "      <td>-1.058907</td>\n",
       "    </tr>\n",
       "  </tbody>\n",
       "</table>\n",
       "</div>"
      ],
      "text/plain": [
       "               skew  kurtosis\n",
       "Deal Cost  0.117139 -1.058907"
      ]
     },
     "execution_count": 53,
     "metadata": {},
     "output_type": "execute_result"
    }
   ],
   "source": [
    "# checking the skewness and kurtosis of numeric features, no high values observed.\n",
    "df.agg(['skew', 'kurtosis']).transpose().loc[['Deal Cost']]"
   ]
  },
  {
   "cell_type": "code",
   "execution_count": 54,
   "metadata": {
    "ExecuteTime": {
     "end_time": "2021-02-27T10:37:21.742111Z",
     "start_time": "2021-02-27T10:37:21.733116Z"
    }
   },
   "outputs": [],
   "source": [
    "# splitting the features and target \n",
    "def feature_target_split(df,target):\n",
    "    x = df[df.columns.difference([target])]\n",
    "    y = df[target]\n",
    "    return x,y\n",
    "x,y = feature_target_split(df,\"Deal Status Code\")"
   ]
  },
  {
   "cell_type": "code",
   "execution_count": 20,
   "metadata": {
    "ExecuteTime": {
     "end_time": "2021-02-22T17:40:45.130844Z",
     "start_time": "2021-02-22T17:40:42.494893Z"
    }
   },
   "outputs": [
    {
     "data": {
      "text/html": [
       "<div>\n",
       "<style scoped>\n",
       "    .dataframe tbody tr th:only-of-type {\n",
       "        vertical-align: middle;\n",
       "    }\n",
       "\n",
       "    .dataframe tbody tr th {\n",
       "        vertical-align: top;\n",
       "    }\n",
       "\n",
       "    .dataframe thead th {\n",
       "        text-align: right;\n",
       "    }\n",
       "</style>\n",
       "<table border=\"1\" class=\"dataframe\">\n",
       "  <thead>\n",
       "    <tr style=\"text-align: right;\">\n",
       "      <th></th>\n",
       "      <th>index</th>\n",
       "      <th>Extratrees</th>\n",
       "    </tr>\n",
       "  </thead>\n",
       "  <tbody>\n",
       "    <tr>\n",
       "      <th>40</th>\n",
       "      <td>Deal Cost</td>\n",
       "      <td>0.150501</td>\n",
       "    </tr>\n",
       "    <tr>\n",
       "      <th>53</th>\n",
       "      <td>Manager Name</td>\n",
       "      <td>0.130461</td>\n",
       "    </tr>\n",
       "    <tr>\n",
       "      <th>54</th>\n",
       "      <td>Quater</td>\n",
       "      <td>0.093287</td>\n",
       "    </tr>\n",
       "    <tr>\n",
       "      <th>145</th>\n",
       "      <td>VP Name</td>\n",
       "      <td>0.079456</td>\n",
       "    </tr>\n",
       "    <tr>\n",
       "      <th>103</th>\n",
       "      <td>Solution Type_solution 32</td>\n",
       "      <td>0.019104</td>\n",
       "    </tr>\n",
       "    <tr>\n",
       "      <th>...</th>\n",
       "      <td>...</td>\n",
       "      <td>...</td>\n",
       "    </tr>\n",
       "    <tr>\n",
       "      <th>129</th>\n",
       "      <td>Solution Type_solution 56</td>\n",
       "      <td>0.000044</td>\n",
       "    </tr>\n",
       "    <tr>\n",
       "      <th>124</th>\n",
       "      <td>Solution Type_solution 51</td>\n",
       "      <td>0.000043</td>\n",
       "    </tr>\n",
       "    <tr>\n",
       "      <th>126</th>\n",
       "      <td>Solution Type_solution 53</td>\n",
       "      <td>0.000026</td>\n",
       "    </tr>\n",
       "    <tr>\n",
       "      <th>91</th>\n",
       "      <td>Solution Type_solution 21</td>\n",
       "      <td>0.000021</td>\n",
       "    </tr>\n",
       "    <tr>\n",
       "      <th>117</th>\n",
       "      <td>Solution Type_solution 45</td>\n",
       "      <td>0.000018</td>\n",
       "    </tr>\n",
       "  </tbody>\n",
       "</table>\n",
       "<p>146 rows × 2 columns</p>\n",
       "</div>"
      ],
      "text/plain": [
       "                         index  Extratrees\n",
       "40                   Deal Cost    0.150501\n",
       "53                Manager Name    0.130461\n",
       "54                      Quater    0.093287\n",
       "145                    VP Name    0.079456\n",
       "103  Solution Type_solution 32    0.019104\n",
       "..                         ...         ...\n",
       "129  Solution Type_solution 56    0.000044\n",
       "124  Solution Type_solution 51    0.000043\n",
       "126  Solution Type_solution 53    0.000026\n",
       "91   Solution Type_solution 21    0.000021\n",
       "117  Solution Type_solution 45    0.000018\n",
       "\n",
       "[146 rows x 2 columns]"
      ]
     },
     "metadata": {},
     "output_type": "display_data"
    }
   ],
   "source": [
    "# feature selection by extra tree classifier\n",
    "# variable importance of features\n",
    "def extratree_classifier(features, labels):\n",
    "    model = ExtraTreesClassifier()\n",
    "    model.fit(features, labels)\n",
    "    Extra_Tree = pd.DataFrame(model.feature_importances_, columns = [\"Extratrees\"], index=features.columns)\n",
    "    Extra_Tree = Extra_Tree.reset_index()\n",
    "    display(Extra_Tree.sort_values(['Extratrees'],ascending=0))\n",
    "    return Extra_Tree\n",
    "Extra_Tree = extratree_classifier(x,y)"
   ]
  },
  {
   "cell_type": "code",
   "execution_count": 21,
   "metadata": {
    "ExecuteTime": {
     "end_time": "2021-02-22T17:40:45.708299Z",
     "start_time": "2021-02-22T17:40:45.220608Z"
    }
   },
   "outputs": [
    {
     "data": {
      "text/html": [
       "<div>\n",
       "<style scoped>\n",
       "    .dataframe tbody tr th:only-of-type {\n",
       "        vertical-align: middle;\n",
       "    }\n",
       "\n",
       "    .dataframe tbody tr th {\n",
       "        vertical-align: top;\n",
       "    }\n",
       "\n",
       "    .dataframe thead th {\n",
       "        text-align: right;\n",
       "    }\n",
       "</style>\n",
       "<table border=\"1\" class=\"dataframe\">\n",
       "  <thead>\n",
       "    <tr style=\"text-align: right;\">\n",
       "      <th></th>\n",
       "      <th>index</th>\n",
       "      <th>RFE</th>\n",
       "    </tr>\n",
       "  </thead>\n",
       "  <tbody>\n",
       "    <tr>\n",
       "      <th>0</th>\n",
       "      <td>Client Category_automobiles</td>\n",
       "      <td>True</td>\n",
       "    </tr>\n",
       "    <tr>\n",
       "      <th>1</th>\n",
       "      <td>Client Category_consulting</td>\n",
       "      <td>True</td>\n",
       "    </tr>\n",
       "    <tr>\n",
       "      <th>2</th>\n",
       "      <td>Client Category_consumer good</td>\n",
       "      <td>True</td>\n",
       "    </tr>\n",
       "    <tr>\n",
       "      <th>3</th>\n",
       "      <td>Client Category_domestic bank</td>\n",
       "      <td>True</td>\n",
       "    </tr>\n",
       "    <tr>\n",
       "      <th>4</th>\n",
       "      <td>Client Category_domestic private bank</td>\n",
       "      <td>True</td>\n",
       "    </tr>\n",
       "    <tr>\n",
       "      <th>...</th>\n",
       "      <td>...</td>\n",
       "      <td>...</td>\n",
       "    </tr>\n",
       "    <tr>\n",
       "      <th>141</th>\n",
       "      <td>Solution Type_solution 67</td>\n",
       "      <td>True</td>\n",
       "    </tr>\n",
       "    <tr>\n",
       "      <th>142</th>\n",
       "      <td>Solution Type_solution 7</td>\n",
       "      <td>True</td>\n",
       "    </tr>\n",
       "    <tr>\n",
       "      <th>143</th>\n",
       "      <td>Solution Type_solution 8</td>\n",
       "      <td>True</td>\n",
       "    </tr>\n",
       "    <tr>\n",
       "      <th>144</th>\n",
       "      <td>Solution Type_solution 9</td>\n",
       "      <td>True</td>\n",
       "    </tr>\n",
       "    <tr>\n",
       "      <th>145</th>\n",
       "      <td>VP Name</td>\n",
       "      <td>True</td>\n",
       "    </tr>\n",
       "  </tbody>\n",
       "</table>\n",
       "<p>146 rows × 2 columns</p>\n",
       "</div>"
      ],
      "text/plain": [
       "                                     index   RFE\n",
       "0              Client Category_automobiles  True\n",
       "1               Client Category_consulting  True\n",
       "2            Client Category_consumer good  True\n",
       "3            Client Category_domestic bank  True\n",
       "4    Client Category_domestic private bank  True\n",
       "..                                     ...   ...\n",
       "141              Solution Type_solution 67  True\n",
       "142               Solution Type_solution 7  True\n",
       "143               Solution Type_solution 8  True\n",
       "144               Solution Type_solution 9  True\n",
       "145                                VP Name  True\n",
       "\n",
       "[146 rows x 2 columns]"
      ]
     },
     "metadata": {},
     "output_type": "display_data"
    }
   ],
   "source": [
    "#Recursive Feature Elimination\n",
    "def rfe_selection(features, labels):\n",
    "    model = LogisticRegression()\n",
    "    rfe = RFE(model, 460)\n",
    "    fit = rfe.fit(features, labels)\n",
    "    recursive = pd.DataFrame(rfe.support_, columns = [\"RFE\"], index=features.columns)\n",
    "    recursive = recursive.reset_index()\n",
    "    display(recursive[recursive['RFE'] == True])\n",
    "    return recursive\n",
    "recursive = rfe_selection(x,y)"
   ]
  },
  {
   "cell_type": "code",
   "execution_count": 22,
   "metadata": {
    "ExecuteTime": {
     "end_time": "2021-02-22T17:40:47.612245Z",
     "start_time": "2021-02-22T17:40:47.547426Z"
    }
   },
   "outputs": [
    {
     "data": {
      "text/html": [
       "<div>\n",
       "<style scoped>\n",
       "    .dataframe tbody tr th:only-of-type {\n",
       "        vertical-align: middle;\n",
       "    }\n",
       "\n",
       "    .dataframe tbody tr th {\n",
       "        vertical-align: top;\n",
       "    }\n",
       "\n",
       "    .dataframe thead th {\n",
       "        text-align: right;\n",
       "    }\n",
       "</style>\n",
       "<table border=\"1\" class=\"dataframe\">\n",
       "  <thead>\n",
       "    <tr style=\"text-align: right;\">\n",
       "      <th></th>\n",
       "      <th>index</th>\n",
       "      <th>L1</th>\n",
       "    </tr>\n",
       "  </thead>\n",
       "  <tbody>\n",
       "    <tr>\n",
       "      <th>19</th>\n",
       "      <td>Client Category_internal</td>\n",
       "      <td>True</td>\n",
       "    </tr>\n",
       "    <tr>\n",
       "      <th>35</th>\n",
       "      <td>Client Category_services_based</td>\n",
       "      <td>True</td>\n",
       "    </tr>\n",
       "    <tr>\n",
       "      <th>38</th>\n",
       "      <td>Client Category_tech</td>\n",
       "      <td>True</td>\n",
       "    </tr>\n",
       "    <tr>\n",
       "      <th>40</th>\n",
       "      <td>Deal Cost</td>\n",
       "      <td>True</td>\n",
       "    </tr>\n",
       "    <tr>\n",
       "      <th>43</th>\n",
       "      <td>Location_l12</td>\n",
       "      <td>True</td>\n",
       "    </tr>\n",
       "    <tr>\n",
       "      <th>47</th>\n",
       "      <td>Location_l5</td>\n",
       "      <td>True</td>\n",
       "    </tr>\n",
       "    <tr>\n",
       "      <th>51</th>\n",
       "      <td>Location_l9</td>\n",
       "      <td>True</td>\n",
       "    </tr>\n",
       "    <tr>\n",
       "      <th>53</th>\n",
       "      <td>Manager Name</td>\n",
       "      <td>True</td>\n",
       "    </tr>\n",
       "    <tr>\n",
       "      <th>69</th>\n",
       "      <td>Sector_sector 23</td>\n",
       "      <td>True</td>\n",
       "    </tr>\n",
       "    <tr>\n",
       "      <th>81</th>\n",
       "      <td>Solution Type_solution 12</td>\n",
       "      <td>True</td>\n",
       "    </tr>\n",
       "    <tr>\n",
       "      <th>103</th>\n",
       "      <td>Solution Type_solution 32</td>\n",
       "      <td>True</td>\n",
       "    </tr>\n",
       "    <tr>\n",
       "      <th>110</th>\n",
       "      <td>Solution Type_solution 39</td>\n",
       "      <td>True</td>\n",
       "    </tr>\n",
       "    <tr>\n",
       "      <th>141</th>\n",
       "      <td>Solution Type_solution 67</td>\n",
       "      <td>True</td>\n",
       "    </tr>\n",
       "    <tr>\n",
       "      <th>143</th>\n",
       "      <td>Solution Type_solution 8</td>\n",
       "      <td>True</td>\n",
       "    </tr>\n",
       "    <tr>\n",
       "      <th>144</th>\n",
       "      <td>Solution Type_solution 9</td>\n",
       "      <td>True</td>\n",
       "    </tr>\n",
       "    <tr>\n",
       "      <th>145</th>\n",
       "      <td>VP Name</td>\n",
       "      <td>True</td>\n",
       "    </tr>\n",
       "  </tbody>\n",
       "</table>\n",
       "</div>"
      ],
      "text/plain": [
       "                              index    L1\n",
       "19         Client Category_internal  True\n",
       "35   Client Category_services_based  True\n",
       "38             Client Category_tech  True\n",
       "40                        Deal Cost  True\n",
       "43                     Location_l12  True\n",
       "47                      Location_l5  True\n",
       "51                      Location_l9  True\n",
       "53                     Manager Name  True\n",
       "69                 Sector_sector 23  True\n",
       "81        Solution Type_solution 12  True\n",
       "103       Solution Type_solution 32  True\n",
       "110       Solution Type_solution 39  True\n",
       "141       Solution Type_solution 67  True\n",
       "143        Solution Type_solution 8  True\n",
       "144        Solution Type_solution 9  True\n",
       "145                         VP Name  True"
      ]
     },
     "metadata": {},
     "output_type": "display_data"
    }
   ],
   "source": [
    "# L1 feature Selection\n",
    "def l_select(features, labels):\n",
    "    lsvc = LinearSVC(C=0.01, penalty=\"l1\", dual=False).fit(features, labels)\n",
    "    model = SelectFromModel(lsvc,prefit=True)\n",
    "    l1 = pd.DataFrame(model.get_support(), columns = [\"L1\"], index=features.columns)\n",
    "    l1 = l1.reset_index()\n",
    "    display(l1[l1['L1'] == True])\n",
    "    return l1\n",
    "l1 = l_select(x,y)"
   ]
  },
  {
   "cell_type": "code",
   "execution_count": 23,
   "metadata": {
    "ExecuteTime": {
     "end_time": "2021-02-22T17:40:50.373923Z",
     "start_time": "2021-02-22T17:40:50.353946Z"
    }
   },
   "outputs": [],
   "source": [
    "# combining all together\n",
    "def combine_feature_select(fs):\n",
    "    \n",
    "    final_results = reduce(lambda left,right: pd.merge(left,right,on='index'), fs)\n",
    "    return final_results\n",
    "\n",
    "\n",
    "fs = [Extra_Tree, recursive, l1]\n",
    "final_results  = combine_feature_select(fs)"
   ]
  },
  {
   "cell_type": "code",
   "execution_count": 24,
   "metadata": {
    "ExecuteTime": {
     "end_time": "2021-02-22T17:41:12.650242Z",
     "start_time": "2021-02-22T17:41:12.632262Z"
    }
   },
   "outputs": [
    {
     "data": {
      "text/html": [
       "<div>\n",
       "<style scoped>\n",
       "    .dataframe tbody tr th:only-of-type {\n",
       "        vertical-align: middle;\n",
       "    }\n",
       "\n",
       "    .dataframe tbody tr th {\n",
       "        vertical-align: top;\n",
       "    }\n",
       "\n",
       "    .dataframe thead th {\n",
       "        text-align: right;\n",
       "    }\n",
       "</style>\n",
       "<table border=\"1\" class=\"dataframe\">\n",
       "  <thead>\n",
       "    <tr style=\"text-align: right;\">\n",
       "      <th></th>\n",
       "      <th>index</th>\n",
       "      <th>Extratrees</th>\n",
       "      <th>RFE</th>\n",
       "      <th>L1</th>\n",
       "      <th>final_score</th>\n",
       "    </tr>\n",
       "  </thead>\n",
       "  <tbody>\n",
       "    <tr>\n",
       "      <th>145</th>\n",
       "      <td>VP Name</td>\n",
       "      <td>0</td>\n",
       "      <td>1</td>\n",
       "      <td>1</td>\n",
       "      <td>2</td>\n",
       "    </tr>\n",
       "    <tr>\n",
       "      <th>19</th>\n",
       "      <td>Client Category_internal</td>\n",
       "      <td>0</td>\n",
       "      <td>1</td>\n",
       "      <td>1</td>\n",
       "      <td>2</td>\n",
       "    </tr>\n",
       "    <tr>\n",
       "      <th>81</th>\n",
       "      <td>Solution Type_solution 12</td>\n",
       "      <td>0</td>\n",
       "      <td>1</td>\n",
       "      <td>1</td>\n",
       "      <td>2</td>\n",
       "    </tr>\n",
       "    <tr>\n",
       "      <th>69</th>\n",
       "      <td>Sector_sector 23</td>\n",
       "      <td>0</td>\n",
       "      <td>1</td>\n",
       "      <td>1</td>\n",
       "      <td>2</td>\n",
       "    </tr>\n",
       "    <tr>\n",
       "      <th>53</th>\n",
       "      <td>Manager Name</td>\n",
       "      <td>0</td>\n",
       "      <td>1</td>\n",
       "      <td>1</td>\n",
       "      <td>2</td>\n",
       "    </tr>\n",
       "    <tr>\n",
       "      <th>...</th>\n",
       "      <td>...</td>\n",
       "      <td>...</td>\n",
       "      <td>...</td>\n",
       "      <td>...</td>\n",
       "      <td>...</td>\n",
       "    </tr>\n",
       "    <tr>\n",
       "      <th>45</th>\n",
       "      <td>Location_l3</td>\n",
       "      <td>0</td>\n",
       "      <td>1</td>\n",
       "      <td>0</td>\n",
       "      <td>1</td>\n",
       "    </tr>\n",
       "    <tr>\n",
       "      <th>44</th>\n",
       "      <td>Location_l2</td>\n",
       "      <td>0</td>\n",
       "      <td>1</td>\n",
       "      <td>0</td>\n",
       "      <td>1</td>\n",
       "    </tr>\n",
       "    <tr>\n",
       "      <th>42</th>\n",
       "      <td>Location_l11</td>\n",
       "      <td>0</td>\n",
       "      <td>1</td>\n",
       "      <td>0</td>\n",
       "      <td>1</td>\n",
       "    </tr>\n",
       "    <tr>\n",
       "      <th>41</th>\n",
       "      <td>Location_l10</td>\n",
       "      <td>0</td>\n",
       "      <td>1</td>\n",
       "      <td>0</td>\n",
       "      <td>1</td>\n",
       "    </tr>\n",
       "    <tr>\n",
       "      <th>73</th>\n",
       "      <td>Sector_sector 4</td>\n",
       "      <td>0</td>\n",
       "      <td>1</td>\n",
       "      <td>0</td>\n",
       "      <td>1</td>\n",
       "    </tr>\n",
       "  </tbody>\n",
       "</table>\n",
       "<p>146 rows × 5 columns</p>\n",
       "</div>"
      ],
      "text/plain": [
       "                         index  Extratrees  RFE  L1  final_score\n",
       "145                    VP Name           0    1   1            2\n",
       "19    Client Category_internal           0    1   1            2\n",
       "81   Solution Type_solution 12           0    1   1            2\n",
       "69            Sector_sector 23           0    1   1            2\n",
       "53                Manager Name           0    1   1            2\n",
       "..                         ...         ...  ...  ..          ...\n",
       "45                 Location_l3           0    1   0            1\n",
       "44                 Location_l2           0    1   0            1\n",
       "42                Location_l11           0    1   0            1\n",
       "41                Location_l10           0    1   0            1\n",
       "73             Sector_sector 4           0    1   0            1\n",
       "\n",
       "[146 rows x 5 columns]"
      ]
     },
     "metadata": {},
     "output_type": "display_data"
    }
   ],
   "source": [
    "# score table having final count of variable importance of the features\n",
    "def score_table():\n",
    "    columns = ['Extra_Tree', 'recursive', 'l1']\n",
    "    score_table = pd.DataFrame({},[])\n",
    "    score_table['index'] = final_results['index']\n",
    "    score_table['Extratrees'] = final_results['Extratrees'].apply(lambda x: 0 if x <= 0.5 else 1)\n",
    "    score_table['RFE'] = final_results['RFE'].astype(int)\n",
    "    score_table['L1'] = final_results['L1'].astype(int)\n",
    "    score_table['final_score'] = score_table.sum(axis=1)\n",
    "    display(score_table.sort_values('final_score',ascending=0))\n",
    "    return score_table\n",
    "score_table = score_table()"
   ]
  },
  {
   "cell_type": "code",
   "execution_count": 25,
   "metadata": {
    "ExecuteTime": {
     "end_time": "2021-02-22T17:41:15.779333Z",
     "start_time": "2021-02-22T17:41:15.771388Z"
    }
   },
   "outputs": [
    {
     "name": "stdout",
     "output_type": "stream",
     "text": [
      "Important variables likely to convert opportunity to win Index(['Client Category_internal', 'Client Category_services_based',\n",
      "       'Client Category_tech', 'Deal Cost', 'Location_l12', 'Location_l5',\n",
      "       'Location_l9', 'Manager Name', 'Sector_sector 23',\n",
      "       'Solution Type_solution 12', 'Solution Type_solution 32',\n",
      "       'Solution Type_solution 39', 'Solution Type_solution 67',\n",
      "       'Solution Type_solution 8', 'Solution Type_solution 9', 'VP Name'],\n",
      "      dtype='object')\n"
     ]
    }
   ],
   "source": [
    "# printing important variables\n",
    "print(\"Important variables likely to convert opportunity to win\",x[list(score_table[score_table['final_score']>1]['index'])].columns)"
   ]
  },
  {
   "cell_type": "code",
   "execution_count": 26,
   "metadata": {
    "ExecuteTime": {
     "end_time": "2021-02-22T17:41:42.998492Z",
     "start_time": "2021-02-22T17:41:42.989516Z"
    }
   },
   "outputs": [
    {
     "data": {
      "text/plain": [
       "(10033, 146)"
      ]
     },
     "execution_count": 26,
     "metadata": {},
     "output_type": "execute_result"
    }
   ],
   "source": [
    "# selecting features not having 0 score in variable importance score table\n",
    "def selected_features(x,score_table):\n",
    "    x = x[list(score_table[score_table['final_score'] >= 1]['index'])]\n",
    "    return x\n",
    "x = selected_features(x,score_table)\n",
    "x.shape"
   ]
  },
  {
   "cell_type": "code",
   "execution_count": 27,
   "metadata": {
    "ExecuteTime": {
     "end_time": "2021-02-22T17:45:56.505756Z",
     "start_time": "2021-02-22T17:42:01.365481Z"
    }
   },
   "outputs": [
    {
     "data": {
      "text/plain": [
       "(10033, 142)"
      ]
     },
     "execution_count": 27,
     "metadata": {},
     "output_type": "execute_result"
    }
   ],
   "source": [
    "## checking multicollinearity through vif\n",
    "\n",
    "from statsmodels.stats.outliers_influence import variance_inflation_factor\n",
    "def calculate_vif(x):\n",
    "    vif = pd.DataFrame()\n",
    "    vif[\"x\"] = x.columns\n",
    "    vif[\"VIF\"] = [variance_inflation_factor(x.values, i) for i in range(x.shape[1])]    \n",
    "    return(vif)\n",
    "\n",
    "\n",
    "vif = calculate_vif(x)\n",
    "\n",
    "while vif['VIF'][vif['VIF'] > 4].any():\n",
    "    remove = vif.sort_values('VIF',ascending=0)['x'][:1]\n",
    "    x.drop(remove,axis=1,inplace=True)\n",
    "    vif = calculate_vif(x)\n",
    "x.shape"
   ]
  },
  {
   "cell_type": "code",
   "execution_count": 55,
   "metadata": {
    "ExecuteTime": {
     "end_time": "2021-02-27T10:37:47.115778Z",
     "start_time": "2021-02-27T10:37:43.829665Z"
    }
   },
   "outputs": [
    {
     "name": "stdout",
     "output_type": "stream",
     "text": [
      "before smote 0    62.625659\n",
      "1    37.374341\n",
      "Name: Deal Status Code, dtype: float64\n",
      "after smote 1    50.0\n",
      "0    50.0\n",
      "Name: Deal Status Code, dtype: float64\n"
     ]
    }
   ],
   "source": [
    "# since there is imbalance between classes , treating using smote technique\n",
    "def smote(data,target):\n",
    "    print(\"before smote\",data[target].value_counts(normalize = True)*100)\n",
    "    sm = SMOTE(random_state=400)\n",
    "    x_sm, y_sm = sm.fit_resample(x, y)\n",
    "    print(\"after smote\",y_sm.value_counts(normalize=True) * 100)\n",
    "    return x_sm,y_sm\n",
    "x_sm,y_sm = smote(data,\"Deal Status Code\")"
   ]
  },
  {
   "cell_type": "code",
   "execution_count": 56,
   "metadata": {
    "ExecuteTime": {
     "end_time": "2021-02-27T10:37:47.400620Z",
     "start_time": "2021-02-27T10:37:47.372631Z"
    }
   },
   "outputs": [],
   "source": [
    "## train-test split\n",
    "x_train,x_test,y_train,y_test = train_test_split(x_sm,y_sm,test_size = 0.3,random_state = 400)"
   ]
  },
  {
   "cell_type": "code",
   "execution_count": 30,
   "metadata": {
    "ExecuteTime": {
     "end_time": "2021-02-22T17:49:11.223110Z",
     "start_time": "2021-02-22T17:48:08.284266Z"
    }
   },
   "outputs": [
    {
     "name": "stdout",
     "output_type": "stream",
     "text": [
      "Fitting 4 folds for each of 48 candidates, totalling 192 fits\n",
      "[CV] C=1.0, max_iter=50, penalty=l1, solver=lbfgs ....................\n",
      "[CV]  C=1.0, max_iter=50, penalty=l1, solver=lbfgs, score=nan, total=   0.0s\n",
      "[CV] C=1.0, max_iter=50, penalty=l1, solver=lbfgs ....................\n",
      "[CV]  C=1.0, max_iter=50, penalty=l1, solver=lbfgs, score=nan, total=   0.0s\n",
      "[CV] C=1.0, max_iter=50, penalty=l1, solver=lbfgs ....................\n",
      "[CV]  C=1.0, max_iter=50, penalty=l1, solver=lbfgs, score=nan, total=   0.0s\n",
      "[CV] C=1.0, max_iter=50, penalty=l1, solver=lbfgs ....................\n",
      "[CV]  C=1.0, max_iter=50, penalty=l1, solver=lbfgs, score=nan, total=   0.0s\n",
      "[CV] C=1.0, max_iter=50, penalty=l1, solver=sag ......................\n",
      "[CV]  C=1.0, max_iter=50, penalty=l1, solver=sag, score=nan, total=   0.0s\n",
      "[CV] C=1.0, max_iter=50, penalty=l1, solver=sag ......................\n",
      "[CV]  C=1.0, max_iter=50, penalty=l1, solver=sag, score=nan, total=   0.0s\n",
      "[CV] C=1.0, max_iter=50, penalty=l1, solver=sag ......................\n",
      "[CV]  C=1.0, max_iter=50, penalty=l1, solver=sag, score=nan, total=   0.0s\n",
      "[CV] C=1.0, max_iter=50, penalty=l1, solver=sag ......................\n",
      "[CV]  C=1.0, max_iter=50, penalty=l1, solver=sag, score=nan, total=   0.0s\n",
      "[CV] C=1.0, max_iter=50, penalty=l1, solver=saga .....................\n"
     ]
    },
    {
     "name": "stderr",
     "output_type": "stream",
     "text": [
      "[Parallel(n_jobs=1)]: Using backend SequentialBackend with 1 concurrent workers.\n",
      "[Parallel(n_jobs=1)]: Done   1 out of   1 | elapsed:    0.0s remaining:    0.0s\n",
      "[Parallel(n_jobs=1)]: Done   2 out of   2 | elapsed:    0.0s remaining:    0.0s\n",
      "[Parallel(n_jobs=1)]: Done   3 out of   3 | elapsed:    0.0s remaining:    0.0s\n",
      "[Parallel(n_jobs=1)]: Done   4 out of   4 | elapsed:    0.0s remaining:    0.0s\n",
      "[Parallel(n_jobs=1)]: Done   5 out of   5 | elapsed:    0.0s remaining:    0.0s\n",
      "[Parallel(n_jobs=1)]: Done   6 out of   6 | elapsed:    0.0s remaining:    0.0s\n",
      "[Parallel(n_jobs=1)]: Done   7 out of   7 | elapsed:    0.0s remaining:    0.0s\n",
      "[Parallel(n_jobs=1)]: Done   8 out of   8 | elapsed:    0.0s remaining:    0.0s\n"
     ]
    },
    {
     "name": "stdout",
     "output_type": "stream",
     "text": [
      "[CV]  C=1.0, max_iter=50, penalty=l1, solver=saga, score=0.687, total=   0.7s\n",
      "[CV] C=1.0, max_iter=50, penalty=l1, solver=saga .....................\n"
     ]
    },
    {
     "name": "stderr",
     "output_type": "stream",
     "text": [
      "[Parallel(n_jobs=1)]: Done   9 out of   9 | elapsed:    0.6s remaining:    0.0s\n"
     ]
    },
    {
     "name": "stdout",
     "output_type": "stream",
     "text": [
      "[CV]  C=1.0, max_iter=50, penalty=l1, solver=saga, score=0.690, total=   0.7s\n",
      "[CV] C=1.0, max_iter=50, penalty=l1, solver=saga .....................\n",
      "[CV]  C=1.0, max_iter=50, penalty=l1, solver=saga, score=0.678, total=   0.7s\n",
      "[CV] C=1.0, max_iter=50, penalty=l1, solver=saga .....................\n",
      "[CV]  C=1.0, max_iter=50, penalty=l1, solver=saga, score=0.677, total=   0.7s\n",
      "[CV] C=1.0, max_iter=50, penalty=none, solver=lbfgs ..................\n",
      "[CV]  C=1.0, max_iter=50, penalty=none, solver=lbfgs, score=0.693, total=   0.1s\n",
      "[CV] C=1.0, max_iter=50, penalty=none, solver=lbfgs ..................\n",
      "[CV]  C=1.0, max_iter=50, penalty=none, solver=lbfgs, score=0.687, total=   0.1s\n",
      "[CV] C=1.0, max_iter=50, penalty=none, solver=lbfgs ..................\n",
      "[CV]  C=1.0, max_iter=50, penalty=none, solver=lbfgs, score=0.677, total=   0.1s\n",
      "[CV] C=1.0, max_iter=50, penalty=none, solver=lbfgs ..................\n",
      "[CV]  C=1.0, max_iter=50, penalty=none, solver=lbfgs, score=0.678, total=   0.1s\n",
      "[CV] C=1.0, max_iter=50, penalty=none, solver=sag ....................\n",
      "[CV]  C=1.0, max_iter=50, penalty=none, solver=sag, score=0.694, total=   0.5s\n",
      "[CV] C=1.0, max_iter=50, penalty=none, solver=sag ....................\n",
      "[CV]  C=1.0, max_iter=50, penalty=none, solver=sag, score=0.692, total=   0.4s\n",
      "[CV] C=1.0, max_iter=50, penalty=none, solver=sag ....................\n",
      "[CV]  C=1.0, max_iter=50, penalty=none, solver=sag, score=0.682, total=   0.5s\n",
      "[CV] C=1.0, max_iter=50, penalty=none, solver=sag ....................\n",
      "[CV]  C=1.0, max_iter=50, penalty=none, solver=sag, score=0.678, total=   0.4s\n",
      "[CV] C=1.0, max_iter=50, penalty=none, solver=saga ...................\n",
      "[CV]  C=1.0, max_iter=50, penalty=none, solver=saga, score=0.693, total=   0.5s\n",
      "[CV] C=1.0, max_iter=50, penalty=none, solver=saga ...................\n",
      "[CV]  C=1.0, max_iter=50, penalty=none, solver=saga, score=0.691, total=   0.5s\n",
      "[CV] C=1.0, max_iter=50, penalty=none, solver=saga ...................\n",
      "[CV]  C=1.0, max_iter=50, penalty=none, solver=saga, score=0.681, total=   0.5s\n",
      "[CV] C=1.0, max_iter=50, penalty=none, solver=saga ...................\n",
      "[CV]  C=1.0, max_iter=50, penalty=none, solver=saga, score=0.678, total=   0.5s\n",
      "[CV] C=1.0, max_iter=100, penalty=l1, solver=lbfgs ...................\n",
      "[CV]  C=1.0, max_iter=100, penalty=l1, solver=lbfgs, score=nan, total=   0.0s\n",
      "[CV] C=1.0, max_iter=100, penalty=l1, solver=lbfgs ...................\n",
      "[CV]  C=1.0, max_iter=100, penalty=l1, solver=lbfgs, score=nan, total=   0.0s\n",
      "[CV] C=1.0, max_iter=100, penalty=l1, solver=lbfgs ...................\n",
      "[CV]  C=1.0, max_iter=100, penalty=l1, solver=lbfgs, score=nan, total=   0.0s\n",
      "[CV] C=1.0, max_iter=100, penalty=l1, solver=lbfgs ...................\n",
      "[CV]  C=1.0, max_iter=100, penalty=l1, solver=lbfgs, score=nan, total=   0.0s\n",
      "[CV] C=1.0, max_iter=100, penalty=l1, solver=sag .....................\n",
      "[CV]  C=1.0, max_iter=100, penalty=l1, solver=sag, score=nan, total=   0.0s\n",
      "[CV] C=1.0, max_iter=100, penalty=l1, solver=sag .....................\n",
      "[CV]  C=1.0, max_iter=100, penalty=l1, solver=sag, score=nan, total=   0.0s\n",
      "[CV] C=1.0, max_iter=100, penalty=l1, solver=sag .....................\n",
      "[CV]  C=1.0, max_iter=100, penalty=l1, solver=sag, score=nan, total=   0.0s\n",
      "[CV] C=1.0, max_iter=100, penalty=l1, solver=sag .....................\n",
      "[CV]  C=1.0, max_iter=100, penalty=l1, solver=sag, score=nan, total=   0.0s\n",
      "[CV] C=1.0, max_iter=100, penalty=l1, solver=saga ....................\n",
      "[CV]  C=1.0, max_iter=100, penalty=l1, solver=saga, score=0.687, total=   0.6s\n",
      "[CV] C=1.0, max_iter=100, penalty=l1, solver=saga ....................\n",
      "[CV]  C=1.0, max_iter=100, penalty=l1, solver=saga, score=0.690, total=   0.7s\n",
      "[CV] C=1.0, max_iter=100, penalty=l1, solver=saga ....................\n",
      "[CV]  C=1.0, max_iter=100, penalty=l1, solver=saga, score=0.678, total=   0.7s\n",
      "[CV] C=1.0, max_iter=100, penalty=l1, solver=saga ....................\n",
      "[CV]  C=1.0, max_iter=100, penalty=l1, solver=saga, score=0.677, total=   0.8s\n",
      "[CV] C=1.0, max_iter=100, penalty=none, solver=lbfgs .................\n",
      "[CV]  C=1.0, max_iter=100, penalty=none, solver=lbfgs, score=0.693, total=   0.2s\n",
      "[CV] C=1.0, max_iter=100, penalty=none, solver=lbfgs .................\n",
      "[CV]  C=1.0, max_iter=100, penalty=none, solver=lbfgs, score=0.692, total=   0.2s\n",
      "[CV] C=1.0, max_iter=100, penalty=none, solver=lbfgs .................\n",
      "[CV]  C=1.0, max_iter=100, penalty=none, solver=lbfgs, score=0.682, total=   0.2s\n",
      "[CV] C=1.0, max_iter=100, penalty=none, solver=lbfgs .................\n",
      "[CV]  C=1.0, max_iter=100, penalty=none, solver=lbfgs, score=0.679, total=   0.2s\n",
      "[CV] C=1.0, max_iter=100, penalty=none, solver=sag ...................\n",
      "[CV]  C=1.0, max_iter=100, penalty=none, solver=sag, score=0.694, total=   0.9s\n",
      "[CV] C=1.0, max_iter=100, penalty=none, solver=sag ...................\n",
      "[CV]  C=1.0, max_iter=100, penalty=none, solver=sag, score=0.693, total=   0.9s\n",
      "[CV] C=1.0, max_iter=100, penalty=none, solver=sag ...................\n",
      "[CV]  C=1.0, max_iter=100, penalty=none, solver=sag, score=0.681, total=   0.9s\n",
      "[CV] C=1.0, max_iter=100, penalty=none, solver=sag ...................\n",
      "[CV]  C=1.0, max_iter=100, penalty=none, solver=sag, score=0.677, total=   1.0s\n",
      "[CV] C=1.0, max_iter=100, penalty=none, solver=saga ..................\n",
      "[CV]  C=1.0, max_iter=100, penalty=none, solver=saga, score=0.694, total=   1.0s\n",
      "[CV] C=1.0, max_iter=100, penalty=none, solver=saga ..................\n",
      "[CV]  C=1.0, max_iter=100, penalty=none, solver=saga, score=0.692, total=   1.0s\n",
      "[CV] C=1.0, max_iter=100, penalty=none, solver=saga ..................\n",
      "[CV]  C=1.0, max_iter=100, penalty=none, solver=saga, score=0.682, total=   0.9s\n",
      "[CV] C=1.0, max_iter=100, penalty=none, solver=saga ..................\n",
      "[CV]  C=1.0, max_iter=100, penalty=none, solver=saga, score=0.678, total=   1.0s\n",
      "[CV] C=0.01, max_iter=50, penalty=l1, solver=lbfgs ...................\n",
      "[CV]  C=0.01, max_iter=50, penalty=l1, solver=lbfgs, score=nan, total=   0.0s\n",
      "[CV] C=0.01, max_iter=50, penalty=l1, solver=lbfgs ...................\n",
      "[CV]  C=0.01, max_iter=50, penalty=l1, solver=lbfgs, score=nan, total=   0.0s\n",
      "[CV] C=0.01, max_iter=50, penalty=l1, solver=lbfgs ...................\n",
      "[CV]  C=0.01, max_iter=50, penalty=l1, solver=lbfgs, score=nan, total=   0.0s\n",
      "[CV] C=0.01, max_iter=50, penalty=l1, solver=lbfgs ...................\n",
      "[CV]  C=0.01, max_iter=50, penalty=l1, solver=lbfgs, score=nan, total=   0.0s\n",
      "[CV] C=0.01, max_iter=50, penalty=l1, solver=sag .....................\n",
      "[CV]  C=0.01, max_iter=50, penalty=l1, solver=sag, score=nan, total=   0.0s\n",
      "[CV] C=0.01, max_iter=50, penalty=l1, solver=sag .....................\n",
      "[CV]  C=0.01, max_iter=50, penalty=l1, solver=sag, score=nan, total=   0.0s\n",
      "[CV] C=0.01, max_iter=50, penalty=l1, solver=sag .....................\n",
      "[CV]  C=0.01, max_iter=50, penalty=l1, solver=sag, score=nan, total=   0.0s\n",
      "[CV] C=0.01, max_iter=50, penalty=l1, solver=sag .....................\n",
      "[CV]  C=0.01, max_iter=50, penalty=l1, solver=sag, score=nan, total=   0.0s\n",
      "[CV] C=0.01, max_iter=50, penalty=l1, solver=saga ....................\n",
      "[CV]  C=0.01, max_iter=50, penalty=l1, solver=saga, score=0.655, total=   0.2s\n",
      "[CV] C=0.01, max_iter=50, penalty=l1, solver=saga ....................\n",
      "[CV]  C=0.01, max_iter=50, penalty=l1, solver=saga, score=0.657, total=   0.3s\n",
      "[CV] C=0.01, max_iter=50, penalty=l1, solver=saga ....................\n",
      "[CV]  C=0.01, max_iter=50, penalty=l1, solver=saga, score=0.653, total=   0.2s\n",
      "[CV] C=0.01, max_iter=50, penalty=l1, solver=saga ....................\n",
      "[CV]  C=0.01, max_iter=50, penalty=l1, solver=saga, score=0.662, total=   0.3s\n",
      "[CV] C=0.01, max_iter=50, penalty=none, solver=lbfgs .................\n",
      "[CV]  C=0.01, max_iter=50, penalty=none, solver=lbfgs, score=0.693, total=   0.1s\n",
      "[CV] C=0.01, max_iter=50, penalty=none, solver=lbfgs .................\n",
      "[CV]  C=0.01, max_iter=50, penalty=none, solver=lbfgs, score=0.687, total=   0.1s\n",
      "[CV] C=0.01, max_iter=50, penalty=none, solver=lbfgs .................\n",
      "[CV]  C=0.01, max_iter=50, penalty=none, solver=lbfgs, score=0.677, total=   0.1s\n",
      "[CV] C=0.01, max_iter=50, penalty=none, solver=lbfgs .................\n",
      "[CV]  C=0.01, max_iter=50, penalty=none, solver=lbfgs, score=0.678, total=   0.1s\n",
      "[CV] C=0.01, max_iter=50, penalty=none, solver=sag ...................\n"
     ]
    },
    {
     "name": "stdout",
     "output_type": "stream",
     "text": [
      "[CV]  C=0.01, max_iter=50, penalty=none, solver=sag, score=0.694, total=   0.4s\n",
      "[CV] C=0.01, max_iter=50, penalty=none, solver=sag ...................\n",
      "[CV]  C=0.01, max_iter=50, penalty=none, solver=sag, score=0.692, total=   0.4s\n",
      "[CV] C=0.01, max_iter=50, penalty=none, solver=sag ...................\n",
      "[CV]  C=0.01, max_iter=50, penalty=none, solver=sag, score=0.681, total=   0.4s\n",
      "[CV] C=0.01, max_iter=50, penalty=none, solver=sag ...................\n",
      "[CV]  C=0.01, max_iter=50, penalty=none, solver=sag, score=0.678, total=   0.4s\n",
      "[CV] C=0.01, max_iter=50, penalty=none, solver=saga ..................\n",
      "[CV]  C=0.01, max_iter=50, penalty=none, solver=saga, score=0.693, total=   0.5s\n",
      "[CV] C=0.01, max_iter=50, penalty=none, solver=saga ..................\n",
      "[CV]  C=0.01, max_iter=50, penalty=none, solver=saga, score=0.692, total=   0.5s\n",
      "[CV] C=0.01, max_iter=50, penalty=none, solver=saga ..................\n",
      "[CV]  C=0.01, max_iter=50, penalty=none, solver=saga, score=0.681, total=   0.5s\n",
      "[CV] C=0.01, max_iter=50, penalty=none, solver=saga ..................\n",
      "[CV]  C=0.01, max_iter=50, penalty=none, solver=saga, score=0.678, total=   0.5s\n",
      "[CV] C=0.01, max_iter=100, penalty=l1, solver=lbfgs ..................\n",
      "[CV]  C=0.01, max_iter=100, penalty=l1, solver=lbfgs, score=nan, total=   0.0s\n",
      "[CV] C=0.01, max_iter=100, penalty=l1, solver=lbfgs ..................\n",
      "[CV]  C=0.01, max_iter=100, penalty=l1, solver=lbfgs, score=nan, total=   0.0s\n",
      "[CV] C=0.01, max_iter=100, penalty=l1, solver=lbfgs ..................\n",
      "[CV]  C=0.01, max_iter=100, penalty=l1, solver=lbfgs, score=nan, total=   0.0s\n",
      "[CV] C=0.01, max_iter=100, penalty=l1, solver=lbfgs ..................\n",
      "[CV]  C=0.01, max_iter=100, penalty=l1, solver=lbfgs, score=nan, total=   0.0s\n",
      "[CV] C=0.01, max_iter=100, penalty=l1, solver=sag ....................\n",
      "[CV]  C=0.01, max_iter=100, penalty=l1, solver=sag, score=nan, total=   0.0s\n",
      "[CV] C=0.01, max_iter=100, penalty=l1, solver=sag ....................\n",
      "[CV]  C=0.01, max_iter=100, penalty=l1, solver=sag, score=nan, total=   0.0s\n",
      "[CV] C=0.01, max_iter=100, penalty=l1, solver=sag ....................\n",
      "[CV]  C=0.01, max_iter=100, penalty=l1, solver=sag, score=nan, total=   0.0s\n",
      "[CV] C=0.01, max_iter=100, penalty=l1, solver=sag ....................\n",
      "[CV]  C=0.01, max_iter=100, penalty=l1, solver=sag, score=nan, total=   0.0s\n",
      "[CV] C=0.01, max_iter=100, penalty=l1, solver=saga ...................\n",
      "[CV]  C=0.01, max_iter=100, penalty=l1, solver=saga, score=0.655, total=   0.2s\n",
      "[CV] C=0.01, max_iter=100, penalty=l1, solver=saga ...................\n",
      "[CV]  C=0.01, max_iter=100, penalty=l1, solver=saga, score=0.657, total=   0.2s\n",
      "[CV] C=0.01, max_iter=100, penalty=l1, solver=saga ...................\n",
      "[CV]  C=0.01, max_iter=100, penalty=l1, solver=saga, score=0.653, total=   0.3s\n",
      "[CV] C=0.01, max_iter=100, penalty=l1, solver=saga ...................\n",
      "[CV]  C=0.01, max_iter=100, penalty=l1, solver=saga, score=0.662, total=   0.2s\n",
      "[CV] C=0.01, max_iter=100, penalty=none, solver=lbfgs ................\n",
      "[CV]  C=0.01, max_iter=100, penalty=none, solver=lbfgs, score=0.693, total=   0.2s\n",
      "[CV] C=0.01, max_iter=100, penalty=none, solver=lbfgs ................\n",
      "[CV]  C=0.01, max_iter=100, penalty=none, solver=lbfgs, score=0.692, total=   0.2s\n",
      "[CV] C=0.01, max_iter=100, penalty=none, solver=lbfgs ................\n",
      "[CV]  C=0.01, max_iter=100, penalty=none, solver=lbfgs, score=0.682, total=   0.2s\n",
      "[CV] C=0.01, max_iter=100, penalty=none, solver=lbfgs ................\n",
      "[CV]  C=0.01, max_iter=100, penalty=none, solver=lbfgs, score=0.679, total=   0.2s\n",
      "[CV] C=0.01, max_iter=100, penalty=none, solver=sag ..................\n",
      "[CV]  C=0.01, max_iter=100, penalty=none, solver=sag, score=0.694, total=   0.9s\n",
      "[CV] C=0.01, max_iter=100, penalty=none, solver=sag ..................\n",
      "[CV]  C=0.01, max_iter=100, penalty=none, solver=sag, score=0.693, total=   0.9s\n",
      "[CV] C=0.01, max_iter=100, penalty=none, solver=sag ..................\n",
      "[CV]  C=0.01, max_iter=100, penalty=none, solver=sag, score=0.681, total=   0.9s\n",
      "[CV] C=0.01, max_iter=100, penalty=none, solver=sag ..................\n",
      "[CV]  C=0.01, max_iter=100, penalty=none, solver=sag, score=0.677, total=   0.9s\n",
      "[CV] C=0.01, max_iter=100, penalty=none, solver=saga .................\n",
      "[CV]  C=0.01, max_iter=100, penalty=none, solver=saga, score=0.694, total=   1.0s\n",
      "[CV] C=0.01, max_iter=100, penalty=none, solver=saga .................\n",
      "[CV]  C=0.01, max_iter=100, penalty=none, solver=saga, score=0.692, total=   1.0s\n",
      "[CV] C=0.01, max_iter=100, penalty=none, solver=saga .................\n",
      "[CV]  C=0.01, max_iter=100, penalty=none, solver=saga, score=0.682, total=   1.0s\n",
      "[CV] C=0.01, max_iter=100, penalty=none, solver=saga .................\n",
      "[CV]  C=0.01, max_iter=100, penalty=none, solver=saga, score=0.678, total=   1.0s\n",
      "[CV] C=0.1, max_iter=50, penalty=l1, solver=lbfgs ....................\n",
      "[CV]  C=0.1, max_iter=50, penalty=l1, solver=lbfgs, score=nan, total=   0.0s\n",
      "[CV] C=0.1, max_iter=50, penalty=l1, solver=lbfgs ....................\n",
      "[CV]  C=0.1, max_iter=50, penalty=l1, solver=lbfgs, score=nan, total=   0.0s\n",
      "[CV] C=0.1, max_iter=50, penalty=l1, solver=lbfgs ....................\n",
      "[CV]  C=0.1, max_iter=50, penalty=l1, solver=lbfgs, score=nan, total=   0.0s\n",
      "[CV] C=0.1, max_iter=50, penalty=l1, solver=lbfgs ....................\n",
      "[CV]  C=0.1, max_iter=50, penalty=l1, solver=lbfgs, score=nan, total=   0.0s\n",
      "[CV] C=0.1, max_iter=50, penalty=l1, solver=sag ......................\n",
      "[CV]  C=0.1, max_iter=50, penalty=l1, solver=sag, score=nan, total=   0.0s\n",
      "[CV] C=0.1, max_iter=50, penalty=l1, solver=sag ......................\n",
      "[CV]  C=0.1, max_iter=50, penalty=l1, solver=sag, score=nan, total=   0.0s\n",
      "[CV] C=0.1, max_iter=50, penalty=l1, solver=sag ......................\n",
      "[CV]  C=0.1, max_iter=50, penalty=l1, solver=sag, score=nan, total=   0.0s\n",
      "[CV] C=0.1, max_iter=50, penalty=l1, solver=sag ......................\n",
      "[CV]  C=0.1, max_iter=50, penalty=l1, solver=sag, score=nan, total=   0.0s\n",
      "[CV] C=0.1, max_iter=50, penalty=l1, solver=saga .....................\n",
      "[CV]  C=0.1, max_iter=50, penalty=l1, solver=saga, score=0.675, total=   0.3s\n",
      "[CV] C=0.1, max_iter=50, penalty=l1, solver=saga .....................\n",
      "[CV]  C=0.1, max_iter=50, penalty=l1, solver=saga, score=0.670, total=   0.3s\n",
      "[CV] C=0.1, max_iter=50, penalty=l1, solver=saga .....................\n",
      "[CV]  C=0.1, max_iter=50, penalty=l1, solver=saga, score=0.658, total=   0.3s\n",
      "[CV] C=0.1, max_iter=50, penalty=l1, solver=saga .....................\n",
      "[CV]  C=0.1, max_iter=50, penalty=l1, solver=saga, score=0.667, total=   0.3s\n",
      "[CV] C=0.1, max_iter=50, penalty=none, solver=lbfgs ..................\n",
      "[CV]  C=0.1, max_iter=50, penalty=none, solver=lbfgs, score=0.693, total=   0.1s\n",
      "[CV] C=0.1, max_iter=50, penalty=none, solver=lbfgs ..................\n",
      "[CV]  C=0.1, max_iter=50, penalty=none, solver=lbfgs, score=0.687, total=   0.1s\n",
      "[CV] C=0.1, max_iter=50, penalty=none, solver=lbfgs ..................\n",
      "[CV]  C=0.1, max_iter=50, penalty=none, solver=lbfgs, score=0.677, total=   0.1s\n",
      "[CV] C=0.1, max_iter=50, penalty=none, solver=lbfgs ..................\n",
      "[CV]  C=0.1, max_iter=50, penalty=none, solver=lbfgs, score=0.678, total=   0.1s\n",
      "[CV] C=0.1, max_iter=50, penalty=none, solver=sag ....................\n",
      "[CV]  C=0.1, max_iter=50, penalty=none, solver=sag, score=0.694, total=   0.4s\n",
      "[CV] C=0.1, max_iter=50, penalty=none, solver=sag ....................\n",
      "[CV]  C=0.1, max_iter=50, penalty=none, solver=sag, score=0.692, total=   0.4s\n",
      "[CV] C=0.1, max_iter=50, penalty=none, solver=sag ....................\n",
      "[CV]  C=0.1, max_iter=50, penalty=none, solver=sag, score=0.682, total=   0.4s\n",
      "[CV] C=0.1, max_iter=50, penalty=none, solver=sag ....................\n",
      "[CV]  C=0.1, max_iter=50, penalty=none, solver=sag, score=0.678, total=   0.4s\n",
      "[CV] C=0.1, max_iter=50, penalty=none, solver=saga ...................\n",
      "[CV]  C=0.1, max_iter=50, penalty=none, solver=saga, score=0.693, total=   0.5s\n",
      "[CV] C=0.1, max_iter=50, penalty=none, solver=saga ...................\n",
      "[CV]  C=0.1, max_iter=50, penalty=none, solver=saga, score=0.692, total=   0.5s\n",
      "[CV] C=0.1, max_iter=50, penalty=none, solver=saga ...................\n",
      "[CV]  C=0.1, max_iter=50, penalty=none, solver=saga, score=0.681, total=   0.5s\n",
      "[CV] C=0.1, max_iter=50, penalty=none, solver=saga ...................\n"
     ]
    },
    {
     "name": "stdout",
     "output_type": "stream",
     "text": [
      "[CV]  C=0.1, max_iter=50, penalty=none, solver=saga, score=0.678, total=   0.5s\n",
      "[CV] C=0.1, max_iter=100, penalty=l1, solver=lbfgs ...................\n",
      "[CV]  C=0.1, max_iter=100, penalty=l1, solver=lbfgs, score=nan, total=   0.0s\n",
      "[CV] C=0.1, max_iter=100, penalty=l1, solver=lbfgs ...................\n",
      "[CV]  C=0.1, max_iter=100, penalty=l1, solver=lbfgs, score=nan, total=   0.0s\n",
      "[CV] C=0.1, max_iter=100, penalty=l1, solver=lbfgs ...................\n",
      "[CV]  C=0.1, max_iter=100, penalty=l1, solver=lbfgs, score=nan, total=   0.0s\n",
      "[CV] C=0.1, max_iter=100, penalty=l1, solver=lbfgs ...................\n",
      "[CV]  C=0.1, max_iter=100, penalty=l1, solver=lbfgs, score=nan, total=   0.0s\n",
      "[CV] C=0.1, max_iter=100, penalty=l1, solver=sag .....................\n",
      "[CV]  C=0.1, max_iter=100, penalty=l1, solver=sag, score=nan, total=   0.0s\n",
      "[CV] C=0.1, max_iter=100, penalty=l1, solver=sag .....................\n",
      "[CV]  C=0.1, max_iter=100, penalty=l1, solver=sag, score=nan, total=   0.0s\n",
      "[CV] C=0.1, max_iter=100, penalty=l1, solver=sag .....................\n",
      "[CV]  C=0.1, max_iter=100, penalty=l1, solver=sag, score=nan, total=   0.0s\n",
      "[CV] C=0.1, max_iter=100, penalty=l1, solver=sag .....................\n",
      "[CV]  C=0.1, max_iter=100, penalty=l1, solver=sag, score=nan, total=   0.0s\n",
      "[CV] C=0.1, max_iter=100, penalty=l1, solver=saga ....................\n",
      "[CV]  C=0.1, max_iter=100, penalty=l1, solver=saga, score=0.675, total=   0.3s\n",
      "[CV] C=0.1, max_iter=100, penalty=l1, solver=saga ....................\n",
      "[CV]  C=0.1, max_iter=100, penalty=l1, solver=saga, score=0.670, total=   0.3s\n",
      "[CV] C=0.1, max_iter=100, penalty=l1, solver=saga ....................\n",
      "[CV]  C=0.1, max_iter=100, penalty=l1, solver=saga, score=0.658, total=   0.3s\n",
      "[CV] C=0.1, max_iter=100, penalty=l1, solver=saga ....................\n",
      "[CV]  C=0.1, max_iter=100, penalty=l1, solver=saga, score=0.667, total=   0.3s\n",
      "[CV] C=0.1, max_iter=100, penalty=none, solver=lbfgs .................\n",
      "[CV]  C=0.1, max_iter=100, penalty=none, solver=lbfgs, score=0.693, total=   0.2s\n",
      "[CV] C=0.1, max_iter=100, penalty=none, solver=lbfgs .................\n",
      "[CV]  C=0.1, max_iter=100, penalty=none, solver=lbfgs, score=0.692, total=   0.2s\n",
      "[CV] C=0.1, max_iter=100, penalty=none, solver=lbfgs .................\n",
      "[CV]  C=0.1, max_iter=100, penalty=none, solver=lbfgs, score=0.682, total=   0.2s\n",
      "[CV] C=0.1, max_iter=100, penalty=none, solver=lbfgs .................\n",
      "[CV]  C=0.1, max_iter=100, penalty=none, solver=lbfgs, score=0.679, total=   0.2s\n",
      "[CV] C=0.1, max_iter=100, penalty=none, solver=sag ...................\n",
      "[CV]  C=0.1, max_iter=100, penalty=none, solver=sag, score=0.694, total=   0.9s\n",
      "[CV] C=0.1, max_iter=100, penalty=none, solver=sag ...................\n",
      "[CV]  C=0.1, max_iter=100, penalty=none, solver=sag, score=0.693, total=   1.0s\n",
      "[CV] C=0.1, max_iter=100, penalty=none, solver=sag ...................\n",
      "[CV]  C=0.1, max_iter=100, penalty=none, solver=sag, score=0.681, total=   0.8s\n",
      "[CV] C=0.1, max_iter=100, penalty=none, solver=sag ...................\n",
      "[CV]  C=0.1, max_iter=100, penalty=none, solver=sag, score=0.677, total=   0.9s\n",
      "[CV] C=0.1, max_iter=100, penalty=none, solver=saga ..................\n",
      "[CV]  C=0.1, max_iter=100, penalty=none, solver=saga, score=0.694, total=   0.9s\n",
      "[CV] C=0.1, max_iter=100, penalty=none, solver=saga ..................\n",
      "[CV]  C=0.1, max_iter=100, penalty=none, solver=saga, score=0.692, total=   1.0s\n",
      "[CV] C=0.1, max_iter=100, penalty=none, solver=saga ..................\n",
      "[CV]  C=0.1, max_iter=100, penalty=none, solver=saga, score=0.682, total=   1.0s\n",
      "[CV] C=0.1, max_iter=100, penalty=none, solver=saga ..................\n",
      "[CV]  C=0.1, max_iter=100, penalty=none, solver=saga, score=0.678, total=   1.0s\n",
      "[CV] C=0.5, max_iter=50, penalty=l1, solver=lbfgs ....................\n",
      "[CV]  C=0.5, max_iter=50, penalty=l1, solver=lbfgs, score=nan, total=   0.0s\n",
      "[CV] C=0.5, max_iter=50, penalty=l1, solver=lbfgs ....................\n",
      "[CV]  C=0.5, max_iter=50, penalty=l1, solver=lbfgs, score=nan, total=   0.0s\n",
      "[CV] C=0.5, max_iter=50, penalty=l1, solver=lbfgs ....................\n",
      "[CV]  C=0.5, max_iter=50, penalty=l1, solver=lbfgs, score=nan, total=   0.0s\n",
      "[CV] C=0.5, max_iter=50, penalty=l1, solver=lbfgs ....................\n",
      "[CV]  C=0.5, max_iter=50, penalty=l1, solver=lbfgs, score=nan, total=   0.0s\n",
      "[CV] C=0.5, max_iter=50, penalty=l1, solver=sag ......................\n",
      "[CV]  C=0.5, max_iter=50, penalty=l1, solver=sag, score=nan, total=   0.0s\n",
      "[CV] C=0.5, max_iter=50, penalty=l1, solver=sag ......................\n",
      "[CV]  C=0.5, max_iter=50, penalty=l1, solver=sag, score=nan, total=   0.0s\n",
      "[CV] C=0.5, max_iter=50, penalty=l1, solver=sag ......................\n",
      "[CV]  C=0.5, max_iter=50, penalty=l1, solver=sag, score=nan, total=   0.0s\n",
      "[CV] C=0.5, max_iter=50, penalty=l1, solver=sag ......................\n",
      "[CV]  C=0.5, max_iter=50, penalty=l1, solver=sag, score=nan, total=   0.0s\n",
      "[CV] C=0.5, max_iter=50, penalty=l1, solver=saga .....................\n",
      "[CV]  C=0.5, max_iter=50, penalty=l1, solver=saga, score=0.691, total=   0.4s\n",
      "[CV] C=0.5, max_iter=50, penalty=l1, solver=saga .....................\n",
      "[CV]  C=0.5, max_iter=50, penalty=l1, solver=saga, score=0.684, total=   0.4s\n",
      "[CV] C=0.5, max_iter=50, penalty=l1, solver=saga .....................\n",
      "[CV]  C=0.5, max_iter=50, penalty=l1, solver=saga, score=0.673, total=   0.4s\n",
      "[CV] C=0.5, max_iter=50, penalty=l1, solver=saga .....................\n",
      "[CV]  C=0.5, max_iter=50, penalty=l1, solver=saga, score=0.669, total=   0.4s\n",
      "[CV] C=0.5, max_iter=50, penalty=none, solver=lbfgs ..................\n",
      "[CV]  C=0.5, max_iter=50, penalty=none, solver=lbfgs, score=0.693, total=   0.1s\n",
      "[CV] C=0.5, max_iter=50, penalty=none, solver=lbfgs ..................\n",
      "[CV]  C=0.5, max_iter=50, penalty=none, solver=lbfgs, score=0.687, total=   0.1s\n",
      "[CV] C=0.5, max_iter=50, penalty=none, solver=lbfgs ..................\n",
      "[CV]  C=0.5, max_iter=50, penalty=none, solver=lbfgs, score=0.677, total=   0.1s\n",
      "[CV] C=0.5, max_iter=50, penalty=none, solver=lbfgs ..................\n",
      "[CV]  C=0.5, max_iter=50, penalty=none, solver=lbfgs, score=0.678, total=   0.1s\n",
      "[CV] C=0.5, max_iter=50, penalty=none, solver=sag ....................\n",
      "[CV]  C=0.5, max_iter=50, penalty=none, solver=sag, score=0.694, total=   0.4s\n",
      "[CV] C=0.5, max_iter=50, penalty=none, solver=sag ....................\n",
      "[CV]  C=0.5, max_iter=50, penalty=none, solver=sag, score=0.692, total=   0.4s\n",
      "[CV] C=0.5, max_iter=50, penalty=none, solver=sag ....................\n",
      "[CV]  C=0.5, max_iter=50, penalty=none, solver=sag, score=0.682, total=   0.4s\n",
      "[CV] C=0.5, max_iter=50, penalty=none, solver=sag ....................\n",
      "[CV]  C=0.5, max_iter=50, penalty=none, solver=sag, score=0.678, total=   0.5s\n",
      "[CV] C=0.5, max_iter=50, penalty=none, solver=saga ...................\n",
      "[CV]  C=0.5, max_iter=50, penalty=none, solver=saga, score=0.693, total=   0.5s\n",
      "[CV] C=0.5, max_iter=50, penalty=none, solver=saga ...................\n",
      "[CV]  C=0.5, max_iter=50, penalty=none, solver=saga, score=0.692, total=   0.5s\n",
      "[CV] C=0.5, max_iter=50, penalty=none, solver=saga ...................\n",
      "[CV]  C=0.5, max_iter=50, penalty=none, solver=saga, score=0.681, total=   0.5s\n",
      "[CV] C=0.5, max_iter=50, penalty=none, solver=saga ...................\n",
      "[CV]  C=0.5, max_iter=50, penalty=none, solver=saga, score=0.678, total=   0.5s\n",
      "[CV] C=0.5, max_iter=100, penalty=l1, solver=lbfgs ...................\n",
      "[CV]  C=0.5, max_iter=100, penalty=l1, solver=lbfgs, score=nan, total=   0.0s\n",
      "[CV] C=0.5, max_iter=100, penalty=l1, solver=lbfgs ...................\n",
      "[CV]  C=0.5, max_iter=100, penalty=l1, solver=lbfgs, score=nan, total=   0.0s\n",
      "[CV] C=0.5, max_iter=100, penalty=l1, solver=lbfgs ...................\n",
      "[CV]  C=0.5, max_iter=100, penalty=l1, solver=lbfgs, score=nan, total=   0.0s\n",
      "[CV] C=0.5, max_iter=100, penalty=l1, solver=lbfgs ...................\n",
      "[CV]  C=0.5, max_iter=100, penalty=l1, solver=lbfgs, score=nan, total=   0.0s\n",
      "[CV] C=0.5, max_iter=100, penalty=l1, solver=sag .....................\n",
      "[CV]  C=0.5, max_iter=100, penalty=l1, solver=sag, score=nan, total=   0.0s\n",
      "[CV] C=0.5, max_iter=100, penalty=l1, solver=sag .....................\n",
      "[CV]  C=0.5, max_iter=100, penalty=l1, solver=sag, score=nan, total=   0.0s\n",
      "[CV] C=0.5, max_iter=100, penalty=l1, solver=sag .....................\n",
      "[CV]  C=0.5, max_iter=100, penalty=l1, solver=sag, score=nan, total=   0.0s\n",
      "[CV] C=0.5, max_iter=100, penalty=l1, solver=sag .....................\n",
      "[CV]  C=0.5, max_iter=100, penalty=l1, solver=sag, score=nan, total=   0.0s\n",
      "[CV] C=0.5, max_iter=100, penalty=l1, solver=saga ....................\n"
     ]
    },
    {
     "name": "stdout",
     "output_type": "stream",
     "text": [
      "[CV]  C=0.5, max_iter=100, penalty=l1, solver=saga, score=0.691, total=   0.4s\n",
      "[CV] C=0.5, max_iter=100, penalty=l1, solver=saga ....................\n",
      "[CV]  C=0.5, max_iter=100, penalty=l1, solver=saga, score=0.684, total=   0.4s\n",
      "[CV] C=0.5, max_iter=100, penalty=l1, solver=saga ....................\n",
      "[CV]  C=0.5, max_iter=100, penalty=l1, solver=saga, score=0.673, total=   0.4s\n",
      "[CV] C=0.5, max_iter=100, penalty=l1, solver=saga ....................\n",
      "[CV]  C=0.5, max_iter=100, penalty=l1, solver=saga, score=0.669, total=   0.4s\n",
      "[CV] C=0.5, max_iter=100, penalty=none, solver=lbfgs .................\n",
      "[CV]  C=0.5, max_iter=100, penalty=none, solver=lbfgs, score=0.693, total=   0.2s\n",
      "[CV] C=0.5, max_iter=100, penalty=none, solver=lbfgs .................\n",
      "[CV]  C=0.5, max_iter=100, penalty=none, solver=lbfgs, score=0.692, total=   0.2s\n",
      "[CV] C=0.5, max_iter=100, penalty=none, solver=lbfgs .................\n",
      "[CV]  C=0.5, max_iter=100, penalty=none, solver=lbfgs, score=0.682, total=   0.2s\n",
      "[CV] C=0.5, max_iter=100, penalty=none, solver=lbfgs .................\n",
      "[CV]  C=0.5, max_iter=100, penalty=none, solver=lbfgs, score=0.679, total=   0.2s\n",
      "[CV] C=0.5, max_iter=100, penalty=none, solver=sag ...................\n",
      "[CV]  C=0.5, max_iter=100, penalty=none, solver=sag, score=0.694, total=   0.9s\n",
      "[CV] C=0.5, max_iter=100, penalty=none, solver=sag ...................\n",
      "[CV]  C=0.5, max_iter=100, penalty=none, solver=sag, score=0.693, total=   0.9s\n",
      "[CV] C=0.5, max_iter=100, penalty=none, solver=sag ...................\n",
      "[CV]  C=0.5, max_iter=100, penalty=none, solver=sag, score=0.681, total=   0.9s\n",
      "[CV] C=0.5, max_iter=100, penalty=none, solver=sag ...................\n",
      "[CV]  C=0.5, max_iter=100, penalty=none, solver=sag, score=0.677, total=   1.0s\n",
      "[CV] C=0.5, max_iter=100, penalty=none, solver=saga ..................\n",
      "[CV]  C=0.5, max_iter=100, penalty=none, solver=saga, score=0.693, total=   1.0s\n",
      "[CV] C=0.5, max_iter=100, penalty=none, solver=saga ..................\n",
      "[CV]  C=0.5, max_iter=100, penalty=none, solver=saga, score=0.692, total=   1.0s\n",
      "[CV] C=0.5, max_iter=100, penalty=none, solver=saga ..................\n",
      "[CV]  C=0.5, max_iter=100, penalty=none, solver=saga, score=0.682, total=   1.0s\n",
      "[CV] C=0.5, max_iter=100, penalty=none, solver=saga ..................\n",
      "[CV]  C=0.5, max_iter=100, penalty=none, solver=saga, score=0.678, total=   1.0s\n"
     ]
    },
    {
     "name": "stderr",
     "output_type": "stream",
     "text": [
      "[Parallel(n_jobs=1)]: Done 192 out of 192 | elapsed:  1.0min finished\n"
     ]
    },
    {
     "name": "stdout",
     "output_type": "stream",
     "text": [
      "{'C': 1.0, 'max_iter': 100, 'penalty': 'none', 'solver': 'lbfgs'}\n"
     ]
    }
   ],
   "source": [
    "# logistic regression function\n",
    "def logistic(x_train,y_train,x_test,y_test):\n",
    "    p = {'penalty':['l1','none'],'C': [1.0,0.01,0.1,0.5],'solver':[\"lbfgs\",\"sag\",\"saga\"],\n",
    "         'max_iter':[50,100]}\n",
    "    model = LogisticRegression()\n",
    "    model_final = GridSearchCV(model,param_grid = p, cv = 4, verbose = 10)\n",
    "    model_final.fit(x_train,y_train)\n",
    "    print(model_final.best_params_)\n",
    "    pred_train_prob = model_final.predict_proba(x_train)\n",
    "    pred_test_prob = model_final.predict_proba(x_test)\n",
    "    fpr, tpr, _ = metrics.roc_curve(np.array(y_train), pred_train_prob[:,1])\n",
    "    auc_train = metrics.auc(fpr,tpr)\n",
    "    fpr, tpr, _ = metrics.roc_curve(np.array(y_test), pred_test_prob[:,1])\n",
    "    auc_test = metrics.auc(fpr,tpr)\n",
    "    pred_train = np.where(pred_train_prob[:,1] <=0.49,0,1)\n",
    "    pred_test = np.where(pred_test_prob[:,1] <=0.49,0,1)\n",
    "    return pred_train,pred_test,auc_train,auc_test\n",
    "logit_y_train_pred,logit_y_test_pred,auc_train,auc_test = logistic(x_train,y_train,x_test,y_test)"
   ]
  },
  {
   "cell_type": "code",
   "execution_count": 31,
   "metadata": {
    "ExecuteTime": {
     "end_time": "2021-02-22T17:49:42.129997Z",
     "start_time": "2021-02-22T17:49:42.123020Z"
    }
   },
   "outputs": [],
   "source": [
    "# function to find precision ,recall ,f1-score ,auc of model\n",
    "def accuracy_measure(y_actual,y_pred):\n",
    "    print(metrics.classification_report(y_actual,y_pred))\n",
    "    print(\"AUC Score train\",auc_train)\n",
    "    print(\"AUC Score test\",auc_test)"
   ]
  },
  {
   "cell_type": "code",
   "execution_count": 140,
   "metadata": {
    "ExecuteTime": {
     "end_time": "2021-02-22T16:27:13.369187Z",
     "start_time": "2021-02-22T16:27:13.330211Z"
    }
   },
   "outputs": [
    {
     "name": "stdout",
     "output_type": "stream",
     "text": [
      "              precision    recall  f1-score   support\n",
      "\n",
      "           0       0.70      0.68      0.69      4371\n",
      "           1       0.70      0.71      0.70      4429\n",
      "\n",
      "    accuracy                           0.70      8800\n",
      "   macro avg       0.70      0.70      0.70      8800\n",
      "weighted avg       0.70      0.70      0.70      8800\n",
      "\n",
      "AUC Score train 0.7734767300583667\n",
      "AUC Score test 0.7684448512508595\n",
      "              precision    recall  f1-score   support\n",
      "\n",
      "           0       0.71      0.67      0.69      1915\n",
      "           1       0.68      0.71      0.69      1857\n",
      "\n",
      "    accuracy                           0.69      3772\n",
      "   macro avg       0.69      0.69      0.69      3772\n",
      "weighted avg       0.69      0.69      0.69      3772\n",
      "\n",
      "AUC Score train 0.7734767300583667\n",
      "AUC Score test 0.7684448512508595\n"
     ]
    }
   ],
   "source": [
    "accuracy_measure(y_train,logit_y_train_pred)\n",
    "accuracy_measure(y_test,logit_y_test_pred)"
   ]
  },
  {
   "cell_type": "code",
   "execution_count": 133,
   "metadata": {
    "ExecuteTime": {
     "end_time": "2021-02-22T15:57:53.501166Z",
     "start_time": "2021-02-22T15:45:10.595315Z"
    }
   },
   "outputs": [
    {
     "name": "stdout",
     "output_type": "stream",
     "text": [
      "Fitting 4 folds for each of 100 candidates, totalling 400 fits\n"
     ]
    },
    {
     "name": "stderr",
     "output_type": "stream",
     "text": [
      "[Parallel(n_jobs=-1)]: Using backend LokyBackend with 4 concurrent workers.\n",
      "[Parallel(n_jobs=-1)]: Done   5 tasks      | elapsed:    9.1s\n",
      "[Parallel(n_jobs=-1)]: Done  10 tasks      | elapsed:   14.3s\n",
      "[Parallel(n_jobs=-1)]: Done  17 tasks      | elapsed:   33.7s\n",
      "[Parallel(n_jobs=-1)]: Done  24 tasks      | elapsed:   44.6s\n",
      "[Parallel(n_jobs=-1)]: Done  33 tasks      | elapsed:   47.7s\n",
      "[Parallel(n_jobs=-1)]: Done  42 tasks      | elapsed:   59.2s\n",
      "[Parallel(n_jobs=-1)]: Done  53 tasks      | elapsed:  1.2min\n",
      "[Parallel(n_jobs=-1)]: Done  64 tasks      | elapsed:  1.6min\n",
      "[Parallel(n_jobs=-1)]: Done  77 tasks      | elapsed:  2.0min\n",
      "[Parallel(n_jobs=-1)]: Done  90 tasks      | elapsed:  2.6min\n",
      "[Parallel(n_jobs=-1)]: Done 105 tasks      | elapsed:  3.1min\n",
      "[Parallel(n_jobs=-1)]: Done 120 tasks      | elapsed:  3.5min\n",
      "[Parallel(n_jobs=-1)]: Done 137 tasks      | elapsed:  4.2min\n",
      "[Parallel(n_jobs=-1)]: Done 154 tasks      | elapsed:  4.9min\n",
      "[Parallel(n_jobs=-1)]: Done 173 tasks      | elapsed:  5.2min\n",
      "[Parallel(n_jobs=-1)]: Done 192 tasks      | elapsed:  5.5min\n",
      "[Parallel(n_jobs=-1)]: Done 213 tasks      | elapsed:  6.4min\n",
      "[Parallel(n_jobs=-1)]: Done 234 tasks      | elapsed:  7.4min\n",
      "[Parallel(n_jobs=-1)]: Done 257 tasks      | elapsed:  8.1min\n",
      "[Parallel(n_jobs=-1)]: Done 280 tasks      | elapsed:  9.4min\n",
      "[Parallel(n_jobs=-1)]: Done 305 tasks      | elapsed: 10.5min\n",
      "[Parallel(n_jobs=-1)]: Done 330 tasks      | elapsed: 10.8min\n",
      "[Parallel(n_jobs=-1)]: Done 357 tasks      | elapsed: 11.5min\n",
      "[Parallel(n_jobs=-1)]: Done 384 tasks      | elapsed: 12.4min\n",
      "[Parallel(n_jobs=-1)]: Done 400 out of 400 | elapsed: 12.5min finished\n"
     ]
    },
    {
     "name": "stdout",
     "output_type": "stream",
     "text": [
      "{'oob_score': False, 'n_estimators': 478, 'min_samples_split': 2, 'min_samples_leaf': 1, 'max_features': 'auto', 'max_depth': None, 'criterion': 'gini', 'bootstrap': True}\n"
     ]
    }
   ],
   "source": [
    "# random forest function with hyperparameter tunning\n",
    "def Random_forest(x_train,y_train,x_test,y_test):\n",
    "    n_estimators = [int(x) for x in np.linspace(start = 10, stop = 1000, num = 20)]\n",
    "    criterion = ['gini','entropy']\n",
    "    max_features = ['auto', 'sqrt','log2']\n",
    "    max_depth = [int(x) for x in np.linspace(3, 20, num = 5)]\n",
    "    max_depth.append(None)\n",
    "    min_samples_split = [2, 5, 7,10]\n",
    "    min_samples_leaf = [1, 2, 4,5]\n",
    "    bootstrap = [True, False]\n",
    "    oob_score = [True,False]\n",
    "\n",
    "    random_grid = {'n_estimators': n_estimators,\n",
    "                   'criterion':criterion,\n",
    "                   'max_features': max_features,\n",
    "                   'max_depth': max_depth,\n",
    "                   'min_samples_split': min_samples_split,\n",
    "                   'min_samples_leaf': min_samples_leaf,\n",
    "                   'bootstrap': bootstrap,\n",
    "                   'oob_score':oob_score}\n",
    "\n",
    "    rf = RandomForestClassifier()\n",
    "\n",
    "    rf_random = RandomizedSearchCV(estimator = rf, param_distributions = random_grid, n_iter = 100, cv = 4, verbose=10, random_state=400, n_jobs = -1)\n",
    "    rf_random.fit(x_train, y_train)\n",
    "    print(rf_random.best_params_)\n",
    "    pred_train = rf_random.predict(x_train)\n",
    "    pred_test = rf_random.predict(x_test)\n",
    "    fpr, tpr, _ = metrics.roc_curve(np.array(y_train), rf_random.predict_proba(x_train)[:,1])\n",
    "    auc_train = metrics.auc(fpr,tpr)\n",
    "    fpr, tpr, _ = metrics.roc_curve(np.array(y_test), rf_random.predict_proba(x_test)[:,1])\n",
    "    auc_test = metrics.auc(fpr,tpr)\n",
    "\n",
    "    return pred_train,pred_test,auc_train,auc_test\n",
    "rf_y_train_pred,rf_y_test_pred,,auc_train,auc_test = Random_forest(x_train,y_train,x_test,y_test)"
   ]
  },
  {
   "cell_type": "code",
   "execution_count": 134,
   "metadata": {
    "ExecuteTime": {
     "end_time": "2021-02-22T16:04:42.031625Z",
     "start_time": "2021-02-22T16:04:41.996632Z"
    }
   },
   "outputs": [
    {
     "name": "stdout",
     "output_type": "stream",
     "text": [
      "              precision    recall  f1-score   support\n",
      "\n",
      "           0       0.99      0.99      0.99      4371\n",
      "           1       0.99      0.99      0.99      4429\n",
      "\n",
      "    accuracy                           0.99      8800\n",
      "   macro avg       0.99      0.99      0.99      8800\n",
      "weighted avg       0.99      0.99      0.99      8800\n",
      "\n",
      "              precision    recall  f1-score   support\n",
      "\n",
      "           0       0.79      0.79      0.79      1915\n",
      "           1       0.78      0.78      0.78      1857\n",
      "\n",
      "    accuracy                           0.78      3772\n",
      "   macro avg       0.78      0.78      0.78      3772\n",
      "weighted avg       0.78      0.78      0.78      3772\n",
      "\n"
     ]
    }
   ],
   "source": [
    "accuracy_measure(y_train,rf_y_train_pred)\n",
    "accuracy_measure(y_test,rf_y_test_pred)"
   ]
  },
  {
   "cell_type": "code",
   "execution_count": 141,
   "metadata": {
    "ExecuteTime": {
     "end_time": "2021-02-22T16:39:04.330070Z",
     "start_time": "2021-02-22T16:27:30.884897Z"
    }
   },
   "outputs": [
    {
     "name": "stdout",
     "output_type": "stream",
     "text": [
      "Fitting 4 folds for each of 100 candidates, totalling 400 fits\n"
     ]
    },
    {
     "name": "stderr",
     "output_type": "stream",
     "text": [
      "[Parallel(n_jobs=-1)]: Using backend LokyBackend with 4 concurrent workers.\n",
      "[Parallel(n_jobs=-1)]: Done   5 tasks      | elapsed:    9.9s\n",
      "[Parallel(n_jobs=-1)]: Done  10 tasks      | elapsed:   14.1s\n",
      "[Parallel(n_jobs=-1)]: Done  17 tasks      | elapsed:   28.0s\n",
      "[Parallel(n_jobs=-1)]: Done  24 tasks      | elapsed:   35.4s\n",
      "[Parallel(n_jobs=-1)]: Done  33 tasks      | elapsed:   38.4s\n",
      "[Parallel(n_jobs=-1)]: Done  42 tasks      | elapsed:   47.0s\n",
      "[Parallel(n_jobs=-1)]: Done  53 tasks      | elapsed:   57.5s\n",
      "[Parallel(n_jobs=-1)]: Done  64 tasks      | elapsed:  1.2min\n",
      "[Parallel(n_jobs=-1)]: Done  77 tasks      | elapsed:  1.6min\n",
      "[Parallel(n_jobs=-1)]: Done  90 tasks      | elapsed:  2.1min\n",
      "[Parallel(n_jobs=-1)]: Done 105 tasks      | elapsed:  2.6min\n",
      "[Parallel(n_jobs=-1)]: Done 120 tasks      | elapsed:  2.9min\n",
      "[Parallel(n_jobs=-1)]: Done 137 tasks      | elapsed:  3.6min\n",
      "[Parallel(n_jobs=-1)]: Done 154 tasks      | elapsed:  4.2min\n",
      "[Parallel(n_jobs=-1)]: Done 173 tasks      | elapsed:  4.6min\n",
      "[Parallel(n_jobs=-1)]: Done 192 tasks      | elapsed:  4.9min\n",
      "[Parallel(n_jobs=-1)]: Done 213 tasks      | elapsed:  5.7min\n",
      "[Parallel(n_jobs=-1)]: Done 234 tasks      | elapsed:  6.7min\n",
      "[Parallel(n_jobs=-1)]: Done 257 tasks      | elapsed:  7.3min\n",
      "[Parallel(n_jobs=-1)]: Done 280 tasks      | elapsed:  8.5min\n",
      "[Parallel(n_jobs=-1)]: Done 305 tasks      | elapsed:  9.5min\n",
      "[Parallel(n_jobs=-1)]: Done 330 tasks      | elapsed:  9.8min\n",
      "[Parallel(n_jobs=-1)]: Done 357 tasks      | elapsed: 10.4min\n",
      "[Parallel(n_jobs=-1)]: Done 384 tasks      | elapsed: 11.3min\n",
      "[Parallel(n_jobs=-1)]: Done 400 out of 400 | elapsed: 11.3min finished\n"
     ]
    },
    {
     "name": "stdout",
     "output_type": "stream",
     "text": [
      "{'oob_score': False, 'n_estimators': 478, 'min_samples_split': 2, 'min_samples_leaf': 1, 'max_features': 'auto', 'max_depth': None, 'criterion': 'gini', 'bootstrap': True}\n"
     ]
    },
    {
     "ename": "ValueError",
     "evalue": "not enough values to unpack (expected 4, got 2)",
     "output_type": "error",
     "traceback": [
      "\u001b[1;31m---------------------------------------------------------------------------\u001b[0m",
      "\u001b[1;31mValueError\u001b[0m                                Traceback (most recent call last)",
      "\u001b[1;32m<ipython-input-141-b33037081e4f>\u001b[0m in \u001b[0;36m<module>\u001b[1;34m\u001b[0m\n\u001b[0;32m     35\u001b[0m \u001b[1;33m\u001b[0m\u001b[0m\n\u001b[0;32m     36\u001b[0m \u001b[1;33m\u001b[0m\u001b[0m\n\u001b[1;32m---> 37\u001b[1;33m \u001b[0mgb_y_train_pred\u001b[0m\u001b[1;33m,\u001b[0m\u001b[0mgb_y_test_pred\u001b[0m\u001b[1;33m,\u001b[0m\u001b[0mauc_train\u001b[0m\u001b[1;33m,\u001b[0m\u001b[0mauc_test\u001b[0m \u001b[1;33m=\u001b[0m \u001b[0mRandom_forest\u001b[0m\u001b[1;33m(\u001b[0m\u001b[0mx_train\u001b[0m\u001b[1;33m,\u001b[0m\u001b[0my_train\u001b[0m\u001b[1;33m,\u001b[0m\u001b[0mx_test\u001b[0m\u001b[1;33m,\u001b[0m\u001b[0my_test\u001b[0m\u001b[1;33m)\u001b[0m\u001b[1;33m\u001b[0m\u001b[1;33m\u001b[0m\u001b[0m\n\u001b[0m\u001b[0;32m     38\u001b[0m \u001b[1;33m\u001b[0m\u001b[0m\n",
      "\u001b[1;31mValueError\u001b[0m: not enough values to unpack (expected 4, got 2)"
     ]
    }
   ],
   "source": [
    "# gradient boosting algorithm with hyperparameter tunning\n",
    "def gradient_boost(x_train,y_train,x_test,y_test):\n",
    "    \n",
    "    n_estimators = [int(x) for x in np.linspace(start = 10, stop = 1000, num = 20)]\n",
    "    max_features = ['auto', 'sqrt']\n",
    "    max_depth = [int(x) for x in np.linspace(3, 10, num = 1)]\n",
    "    max_depth.append(None)\n",
    "    min_samples_split = [2, 5, 10]\n",
    "    min_samples_leaf = [1, 2, 4]\n",
    "    loss=['deviance','exponential']\n",
    "    learning_rate = [0.1,0.01,0.5]\n",
    "    criterion =['friedman_mse','mse','mae']\n",
    "\n",
    "\n",
    "    grid = {       'n_estimators': n_estimators,\n",
    "                   'max_features': max_features,\n",
    "                   'max_depth': max_depth,\n",
    "                   'min_samples_split': min_samples_split,\n",
    "                   'min_samples_leaf': min_samples_leaf,\n",
    "                   'loss': loss,\n",
    "                   'learning_rate': learning_rate,\n",
    "                    'criterion' :criterion}\n",
    "    gb = GradientBoostingClassifier()\n",
    "\n",
    "    gf_tune = GridSearchCV(estimator = gb, param_grid = grid, cv = 2, verbose=2, n_jobs = -1)\n",
    "    gf_tune.fit(x_train, y_train)\n",
    "\n",
    "    print(gf_tune.best_params_)\n",
    "    pred_train = gf_tune.predict(x_train)\n",
    "    pred_test = gf_tune.predict(x_test)\n",
    "    fpr, tpr, _ = metrics.roc_curve(np.array(y_train),gf_tune.predict_proba(x_train)[:,1])\n",
    "    auc_train = metrics.auc(fpr,tpr)\n",
    "    fpr, tpr, _ = metrics.roc_curve(np.array(y_test), gf_tune.predict_proba(x_test)[:,1])\n",
    "    auc_test = metrics.auc(fpr,tpr)\n",
    "    return pred_train,pred_test,auc_train,auc_test\n",
    "\n",
    "\n",
    "gb_y_train_pred,gb_y_test_pred,auc_train,auc_test = Random_forest(x_train,y_train,x_test,y_test)\n",
    "    "
   ]
  },
  {
   "cell_type": "code",
   "execution_count": 36,
   "metadata": {
    "ExecuteTime": {
     "end_time": "2021-02-22T18:06:44.439961Z",
     "start_time": "2021-02-22T18:06:44.433980Z"
    }
   },
   "outputs": [
    {
     "data": {
      "text/plain": [
       "Index(['Client Category_automobiles', 'Client Category_consulting',\n",
       "       'Client Category_consumer good', 'Client Category_domestic bank',\n",
       "       'Client Category_domestic private bank',\n",
       "       'Client Category_domestic public bank', 'Client Category_e-commerce',\n",
       "       'Client Category_electronics', 'Client Category_energy',\n",
       "       'Client Category_energy ',\n",
       "       ...\n",
       "       'Solution Type_solution 61', 'Solution Type_solution 62',\n",
       "       'Solution Type_solution 63', 'Solution Type_solution 64',\n",
       "       'Solution Type_solution 65', 'Solution Type_solution 66',\n",
       "       'Solution Type_solution 67', 'Solution Type_solution 7',\n",
       "       'Solution Type_solution 8', 'Solution Type_solution 9'],\n",
       "      dtype='object', length=142)"
      ]
     },
     "execution_count": 36,
     "metadata": {},
     "output_type": "execute_result"
    }
   ],
   "source": [
    "#accuracy_measure(y_train,gb_y_train_pred)\n",
    "#accuracy_measure(y_test,gb_y_test_pred)\n",
    "x.columns"
   ]
  },
  {
   "cell_type": "code",
   "execution_count": 33,
   "metadata": {
    "ExecuteTime": {
     "end_time": "2021-02-22T18:04:15.014929Z",
     "start_time": "2021-02-22T18:04:15.010897Z"
    }
   },
   "outputs": [],
   "source": [
    "import tensorflow as tf\n",
    "from tensorflow import keras\n",
    "import kerastuner as kt\n",
    "from keras.models import Sequential\n",
    "from keras.layers import Dense\n",
    "from keras.wrappers.scikit_learn import KerasClassifier\n",
    "from sklearn.model_selection import cross_val_score\n",
    "from sklearn.preprocessing import LabelEncoder\n",
    "from sklearn.model_selection import StratifiedKFold"
   ]
  },
  {
   "cell_type": "code",
   "execution_count": 43,
   "metadata": {
    "ExecuteTime": {
     "end_time": "2021-02-22T18:24:04.054085Z",
     "start_time": "2021-02-22T18:24:04.048085Z"
    }
   },
   "outputs": [],
   "source": [
    "## sequential model with hyperparamter tunning\n",
    "def model_builder(hp):\n",
    "    \n",
    "    model = keras.Sequential()\n",
    "    model.add(keras.layers.Flatten(input_shape=(142, 1)))\n",
    "\n",
    "  # Tune the number of units in the first Dense layer\n",
    "  # Choose an optimal value between 32-512\n",
    "    hp_units = hp.Int('units', min_value=32, max_value=512, step=32)\n",
    "    model.add(keras.layers.Dense(units=hp_units, activation='relu'))\n",
    "    model.add(keras.layers.Dense(10))\n",
    "\n",
    "  # Tune the learning rate for the optimizer\n",
    "  # Choose an optimal value from 0.01, 0.001, or 0.0001\n",
    "    hp_learning_rate = hp.Choice('learning_rate', values=[1e-2, 1e-3, 1e-4])\n",
    "\n",
    "    model.compile(optimizer=keras.optimizers.Adam(learning_rate=hp_learning_rate),\n",
    "                loss=keras.losses.SparseCategoricalCrossentropy(from_logits=True),\n",
    "                metrics=['accuracy'])\n",
    "\n",
    "    return model"
   ]
  },
  {
   "cell_type": "code",
   "execution_count": 44,
   "metadata": {
    "ExecuteTime": {
     "end_time": "2021-02-22T18:24:21.963120Z",
     "start_time": "2021-02-22T18:24:21.837458Z"
    }
   },
   "outputs": [],
   "source": [
    "tuner = kt.Hyperband(model_builder,\n",
    "                     objective='val_accuracy',\n",
    "                     max_epochs=10,\n",
    "                     factor=3,\n",
    "                     directory='my_dir',\n",
    "                     project_name='intro_to_kt')"
   ]
  },
  {
   "cell_type": "code",
   "execution_count": 45,
   "metadata": {
    "ExecuteTime": {
     "end_time": "2021-02-22T18:24:34.962946Z",
     "start_time": "2021-02-22T18:24:34.956999Z"
    }
   },
   "outputs": [],
   "source": [
    "stop_early = tf.keras.callbacks.EarlyStopping(monitor='val_loss', patience=5)"
   ]
  },
  {
   "cell_type": "code",
   "execution_count": 46,
   "metadata": {
    "ExecuteTime": {
     "end_time": "2021-02-22T18:25:48.886457Z",
     "start_time": "2021-02-22T18:25:04.649374Z"
    }
   },
   "outputs": [
    {
     "name": "stdout",
     "output_type": "stream",
     "text": [
      "Trial 30 Complete [00h 00m 02s]\n",
      "val_accuracy: 0.7136363387107849\n",
      "\n",
      "Best val_accuracy So Far: 0.7136363387107849\n",
      "Total elapsed time: 00h 00m 44s\n",
      "INFO:tensorflow:Oracle triggered exit\n",
      "\n",
      "The hyperparameter search is complete. The optimal number of units in the first densely-connected\n",
      "layer is 288 and the optimal learning rate for the optimizer\n",
      "is 0.01.\n",
      "\n"
     ]
    }
   ],
   "source": [
    "tuner.search(x_train, y_train, epochs=50, validation_split=0.2, callbacks=[stop_early])\n",
    "\n",
    "# Get the optimal hyperparameters\n",
    "best_hps=tuner.get_best_hyperparameters(num_trials=1)[0]\n",
    "\n",
    "print(f\"\"\"\n",
    "The hyperparameter search is complete. The optimal number of units in the first densely-connected\n",
    "layer is {best_hps.get('units')} and the optimal learning rate for the optimizer\n",
    "is {best_hps.get('learning_rate')}.\n",
    "\"\"\")"
   ]
  },
  {
   "cell_type": "code",
   "execution_count": 47,
   "metadata": {
    "ExecuteTime": {
     "end_time": "2021-02-22T18:29:25.285754Z",
     "start_time": "2021-02-22T18:29:13.895194Z"
    }
   },
   "outputs": [
    {
     "name": "stdout",
     "output_type": "stream",
     "text": [
      "Epoch 1/50\n",
      "220/220 [==============================] - 0s 1ms/step - loss: 0.6557 - accuracy: 0.6489 - val_loss: 0.6360 - val_accuracy: 0.6574\n",
      "Epoch 2/50\n",
      "220/220 [==============================] - 0s 943us/step - loss: 0.5810 - accuracy: 0.6955 - val_loss: 0.6100 - val_accuracy: 0.6676\n",
      "Epoch 3/50\n",
      "220/220 [==============================] - 0s 979us/step - loss: 0.5389 - accuracy: 0.7325 - val_loss: 0.6032 - val_accuracy: 0.6790\n",
      "Epoch 4/50\n",
      "220/220 [==============================] - 0s 997us/step - loss: 0.5090 - accuracy: 0.7509 - val_loss: 0.6269 - val_accuracy: 0.6886\n",
      "Epoch 5/50\n",
      "220/220 [==============================] - 0s 979us/step - loss: 0.4807 - accuracy: 0.7673 - val_loss: 0.6111 - val_accuracy: 0.6972\n",
      "Epoch 6/50\n",
      "220/220 [==============================] - 0s 1ms/step - loss: 0.4532 - accuracy: 0.7834 - val_loss: 0.6306 - val_accuracy: 0.7011\n",
      "Epoch 7/50\n",
      "220/220 [==============================] - 0s 988us/step - loss: 0.4309 - accuracy: 0.7947 - val_loss: 0.6483 - val_accuracy: 0.7063\n",
      "Epoch 8/50\n",
      "220/220 [==============================] - 0s 997us/step - loss: 0.4055 - accuracy: 0.8119 - val_loss: 0.6891 - val_accuracy: 0.7119\n",
      "Epoch 9/50\n",
      "220/220 [==============================] - 0s 993us/step - loss: 0.3867 - accuracy: 0.8149 - val_loss: 0.7016 - val_accuracy: 0.6909\n",
      "Epoch 10/50\n",
      "220/220 [==============================] - 0s 997us/step - loss: 0.3704 - accuracy: 0.8301 - val_loss: 0.7259 - val_accuracy: 0.7136\n",
      "Epoch 11/50\n",
      "220/220 [==============================] - 0s 1ms/step - loss: 0.3543 - accuracy: 0.8358 - val_loss: 0.7120 - val_accuracy: 0.7182\n",
      "Epoch 12/50\n",
      "220/220 [==============================] - 0s 1ms/step - loss: 0.3429 - accuracy: 0.8432 - val_loss: 0.7400 - val_accuracy: 0.7091\n",
      "Epoch 13/50\n",
      "220/220 [==============================] - 0s 1ms/step - loss: 0.3319 - accuracy: 0.8449 - val_loss: 0.7881 - val_accuracy: 0.7131\n",
      "Epoch 14/50\n",
      "220/220 [==============================] - 0s 1ms/step - loss: 0.3214 - accuracy: 0.8553 - val_loss: 0.7941 - val_accuracy: 0.7148\n",
      "Epoch 15/50\n",
      "220/220 [==============================] - 0s 1ms/step - loss: 0.3105 - accuracy: 0.8632 - val_loss: 0.8312 - val_accuracy: 0.7188\n",
      "Epoch 16/50\n",
      "220/220 [==============================] - 0s 1ms/step - loss: 0.3091 - accuracy: 0.8599 - val_loss: 0.8323 - val_accuracy: 0.7222\n",
      "Epoch 17/50\n",
      "220/220 [==============================] - 0s 1ms/step - loss: 0.2953 - accuracy: 0.8696 - val_loss: 0.8579 - val_accuracy: 0.7256\n",
      "Epoch 18/50\n",
      "220/220 [==============================] - 0s 1ms/step - loss: 0.2864 - accuracy: 0.8661 - val_loss: 0.8842 - val_accuracy: 0.7182\n",
      "Epoch 19/50\n",
      "220/220 [==============================] - 0s 889us/step - loss: 0.2842 - accuracy: 0.8696 - val_loss: 0.8914 - val_accuracy: 0.7148\n",
      "Epoch 20/50\n",
      "220/220 [==============================] - 0s 1ms/step - loss: 0.2770 - accuracy: 0.8730 - val_loss: 0.9169 - val_accuracy: 0.7205\n",
      "Epoch 21/50\n",
      "220/220 [==============================] - 0s 925us/step - loss: 0.2691 - accuracy: 0.8781 - val_loss: 0.9403 - val_accuracy: 0.7153\n",
      "Epoch 22/50\n",
      "220/220 [==============================] - 0s 866us/step - loss: 0.2680 - accuracy: 0.8780 - val_loss: 0.9348 - val_accuracy: 0.7256\n",
      "Epoch 23/50\n",
      "220/220 [==============================] - 0s 907us/step - loss: 0.2582 - accuracy: 0.8810 - val_loss: 0.9837 - val_accuracy: 0.7233\n",
      "Epoch 24/50\n",
      "220/220 [==============================] - 0s 920us/step - loss: 0.2575 - accuracy: 0.8849 - val_loss: 1.0091 - val_accuracy: 0.7148\n",
      "Epoch 25/50\n",
      "220/220 [==============================] - 0s 988us/step - loss: 0.2486 - accuracy: 0.8884 - val_loss: 1.0151 - val_accuracy: 0.7216\n",
      "Epoch 26/50\n",
      "220/220 [==============================] - 0s 938us/step - loss: 0.2507 - accuracy: 0.8832 - val_loss: 1.0222 - val_accuracy: 0.7176\n",
      "Epoch 27/50\n",
      "220/220 [==============================] - 0s 861us/step - loss: 0.2411 - accuracy: 0.8930 - val_loss: 1.0353 - val_accuracy: 0.7239\n",
      "Epoch 28/50\n",
      "220/220 [==============================] - 0s 938us/step - loss: 0.2385 - accuracy: 0.8905 - val_loss: 1.0768 - val_accuracy: 0.7000\n",
      "Epoch 29/50\n",
      "220/220 [==============================] - 0s 1ms/step - loss: 0.2325 - accuracy: 0.8938 - val_loss: 1.0919 - val_accuracy: 0.7159\n",
      "Epoch 30/50\n",
      "220/220 [==============================] - 0s 875us/step - loss: 0.2254 - accuracy: 0.8986 - val_loss: 1.1312 - val_accuracy: 0.7239\n",
      "Epoch 31/50\n",
      "220/220 [==============================] - 0s 1ms/step - loss: 0.2327 - accuracy: 0.8964 - val_loss: 1.1022 - val_accuracy: 0.7091\n",
      "Epoch 32/50\n",
      "220/220 [==============================] - 0s 925us/step - loss: 0.2212 - accuracy: 0.9004 - val_loss: 1.1151 - val_accuracy: 0.7233\n",
      "Epoch 33/50\n",
      "220/220 [==============================] - 0s 1ms/step - loss: 0.2260 - accuracy: 0.8970 - val_loss: 1.1729 - val_accuracy: 0.7159\n",
      "Epoch 34/50\n",
      "220/220 [==============================] - 0s 852us/step - loss: 0.2155 - accuracy: 0.9031 - val_loss: 1.1823 - val_accuracy: 0.7216\n",
      "Epoch 35/50\n",
      "220/220 [==============================] - 0s 830us/step - loss: 0.2179 - accuracy: 0.9027 - val_loss: 1.1659 - val_accuracy: 0.7170\n",
      "Epoch 36/50\n",
      "220/220 [==============================] - 0s 911us/step - loss: 0.2162 - accuracy: 0.9020 - val_loss: 1.1719 - val_accuracy: 0.7227\n",
      "Epoch 37/50\n",
      "220/220 [==============================] - 0s 857us/step - loss: 0.2140 - accuracy: 0.9054 - val_loss: 1.1859 - val_accuracy: 0.7210\n",
      "Epoch 38/50\n",
      "220/220 [==============================] - 0s 866us/step - loss: 0.2138 - accuracy: 0.9037 - val_loss: 1.1974 - val_accuracy: 0.7148\n",
      "Epoch 39/50\n",
      "220/220 [==============================] - 0s 843us/step - loss: 0.2043 - accuracy: 0.9099 - val_loss: 1.2364 - val_accuracy: 0.7290\n",
      "Epoch 40/50\n",
      "220/220 [==============================] - 0s 852us/step - loss: 0.1996 - accuracy: 0.9089 - val_loss: 1.2939 - val_accuracy: 0.7273\n",
      "Epoch 41/50\n",
      "220/220 [==============================] - 0s 970us/step - loss: 0.2037 - accuracy: 0.9085 - val_loss: 1.3019 - val_accuracy: 0.7261\n",
      "Epoch 42/50\n",
      "220/220 [==============================] - 0s 1ms/step - loss: 0.1997 - accuracy: 0.9114 - val_loss: 1.2602 - val_accuracy: 0.7307\n",
      "Epoch 43/50\n",
      "220/220 [==============================] - 0s 1ms/step - loss: 0.2007 - accuracy: 0.9091 - val_loss: 1.2917 - val_accuracy: 0.7244\n",
      "Epoch 44/50\n",
      "220/220 [==============================] - 0s 907us/step - loss: 0.1988 - accuracy: 0.9129 - val_loss: 1.3216 - val_accuracy: 0.7273\n",
      "Epoch 45/50\n",
      "220/220 [==============================] - 0s 966us/step - loss: 0.1951 - accuracy: 0.9131 - val_loss: 1.3383 - val_accuracy: 0.7205\n",
      "Epoch 46/50\n",
      "220/220 [==============================] - 0s 1ms/step - loss: 0.1915 - accuracy: 0.9141 - val_loss: 1.3463 - val_accuracy: 0.7193\n",
      "Epoch 47/50\n",
      "220/220 [==============================] - 0s 1ms/step - loss: 0.1919 - accuracy: 0.9142 - val_loss: 1.3492 - val_accuracy: 0.7188\n",
      "Epoch 48/50\n",
      "220/220 [==============================] - 0s 884us/step - loss: 0.1870 - accuracy: 0.9180 - val_loss: 1.3795 - val_accuracy: 0.7205\n",
      "Epoch 49/50\n",
      "220/220 [==============================] - 0s 938us/step - loss: 0.1892 - accuracy: 0.9168 - val_loss: 1.3937 - val_accuracy: 0.7227\n",
      "Epoch 50/50\n",
      "220/220 [==============================] - 0s 961us/step - loss: 0.1863 - accuracy: 0.9172 - val_loss: 1.4606 - val_accuracy: 0.7290\n",
      "Best epoch: 42\n"
     ]
    }
   ],
   "source": [
    "# Build the model with the optimal hyperparameters and train it on the data for 50 epochs\n",
    "model = tuner.hypermodel.build(best_hps)\n",
    "history = model.fit(x_train, y_train, epochs=50, validation_split=0.2)\n",
    "\n",
    "val_acc_per_epoch = history.history['val_accuracy']\n",
    "best_epoch = val_acc_per_epoch.index(max(val_acc_per_epoch)) + 1\n",
    "print('Best epoch: %d' % (best_epoch,))"
   ]
  },
  {
   "cell_type": "code",
   "execution_count": 48,
   "metadata": {
    "ExecuteTime": {
     "end_time": "2021-02-22T18:30:02.857114Z",
     "start_time": "2021-02-22T18:29:57.850539Z"
    }
   },
   "outputs": [
    {
     "name": "stdout",
     "output_type": "stream",
     "text": [
      "Epoch 1/42\n",
      "118/118 [==============================] - 0s 879us/step - loss: 0.6906 - accuracy: 0.6230\n",
      "Epoch 2/42\n",
      "118/118 [==============================] - 0s 803us/step - loss: 0.5927 - accuracy: 0.6864\n",
      "Epoch 3/42\n",
      "118/118 [==============================] - 0s 854us/step - loss: 0.5614 - accuracy: 0.7057\n",
      "Epoch 4/42\n",
      "118/118 [==============================] - 0s 871us/step - loss: 0.5205 - accuracy: 0.7381\n",
      "Epoch 5/42\n",
      "118/118 [==============================] - 0s 803us/step - loss: 0.4803 - accuracy: 0.7614\n",
      "Epoch 6/42\n",
      "118/118 [==============================] - 0s 854us/step - loss: 0.4555 - accuracy: 0.7818\n",
      "Epoch 7/42\n",
      "118/118 [==============================] - 0s 837us/step - loss: 0.4226 - accuracy: 0.7951\n",
      "Epoch 8/42\n",
      "118/118 [==============================] - 0s 955us/step - loss: 0.4036 - accuracy: 0.8051\n",
      "Epoch 9/42\n",
      "118/118 [==============================] - 0s 947us/step - loss: 0.3735 - accuracy: 0.8282\n",
      "Epoch 10/42\n",
      "118/118 [==============================] - 0s 930us/step - loss: 0.3398 - accuracy: 0.8507\n",
      "Epoch 11/42\n",
      "118/118 [==============================] - 0s 845us/step - loss: 0.3293 - accuracy: 0.8497\n",
      "Epoch 12/42\n",
      "118/118 [==============================] - 0s 769us/step - loss: 0.3177 - accuracy: 0.8550\n",
      "Epoch 13/42\n",
      "118/118 [==============================] - 0s 854us/step - loss: 0.2950 - accuracy: 0.8680\n",
      "Epoch 14/42\n",
      "118/118 [==============================] - 0s 811us/step - loss: 0.2912 - accuracy: 0.8669\n",
      "Epoch 15/42\n",
      "118/118 [==============================] - 0s 803us/step - loss: 0.2820 - accuracy: 0.8767\n",
      "Epoch 16/42\n",
      "118/118 [==============================] - 0s 803us/step - loss: 0.2610 - accuracy: 0.8857\n",
      "Epoch 17/42\n",
      "118/118 [==============================] - 0s 820us/step - loss: 0.2583 - accuracy: 0.8836\n",
      "Epoch 18/42\n",
      "118/118 [==============================] - 0s 896us/step - loss: 0.2590 - accuracy: 0.8860\n",
      "Epoch 19/42\n",
      "118/118 [==============================] - 0s 811us/step - loss: 0.2402 - accuracy: 0.8945\n",
      "Epoch 20/42\n",
      "118/118 [==============================] - 0s 811us/step - loss: 0.2306 - accuracy: 0.8926\n",
      "Epoch 21/42\n",
      "118/118 [==============================] - 0s 862us/step - loss: 0.2221 - accuracy: 0.8985\n",
      "Epoch 22/42\n",
      "118/118 [==============================] - 0s 828us/step - loss: 0.2253 - accuracy: 0.8982\n",
      "Epoch 23/42\n",
      "118/118 [==============================] - 0s 896us/step - loss: 0.2188 - accuracy: 0.9016\n",
      "Epoch 24/42\n",
      "118/118 [==============================] - 0s 820us/step - loss: 0.2179 - accuracy: 0.9059\n",
      "Epoch 25/42\n",
      "118/118 [==============================] - 0s 794us/step - loss: 0.2081 - accuracy: 0.9077\n",
      "Epoch 26/42\n",
      "118/118 [==============================] - 0s 769us/step - loss: 0.2050 - accuracy: 0.9091\n",
      "Epoch 27/42\n",
      "118/118 [==============================] - 0s 837us/step - loss: 0.2039 - accuracy: 0.9080\n",
      "Epoch 28/42\n",
      "118/118 [==============================] - 0s 845us/step - loss: 0.1985 - accuracy: 0.9130\n",
      "Epoch 29/42\n",
      "118/118 [==============================] - 0s 803us/step - loss: 0.1983 - accuracy: 0.9144\n",
      "Epoch 30/42\n",
      "118/118 [==============================] - 0s 947us/step - loss: 0.1929 - accuracy: 0.9181\n",
      "Epoch 31/42\n",
      "118/118 [==============================] - 0s 913us/step - loss: 0.1870 - accuracy: 0.9202\n",
      "Epoch 32/42\n",
      "118/118 [==============================] - 0s 1ms/step - loss: 0.1868 - accuracy: 0.9197\n",
      "Epoch 33/42\n",
      "118/118 [==============================] - 0s 1ms/step - loss: 0.1765 - accuracy: 0.9221\n",
      "Epoch 34/42\n",
      "118/118 [==============================] - 0s 913us/step - loss: 0.1792 - accuracy: 0.9215\n",
      "Epoch 35/42\n",
      "118/118 [==============================] - 0s 947us/step - loss: 0.1763 - accuracy: 0.9191\n",
      "Epoch 36/42\n",
      "118/118 [==============================] - 0s 989us/step - loss: 0.1736 - accuracy: 0.9255\n",
      "Epoch 37/42\n",
      "118/118 [==============================] - 0s 1ms/step - loss: 0.1639 - accuracy: 0.9290\n",
      "Epoch 38/42\n",
      "118/118 [==============================] - 0s 1ms/step - loss: 0.1795 - accuracy: 0.9255\n",
      "Epoch 39/42\n",
      "118/118 [==============================] - 0s 1ms/step - loss: 0.1701 - accuracy: 0.9271\n",
      "Epoch 40/42\n",
      "118/118 [==============================] - 0s 1ms/step - loss: 0.1708 - accuracy: 0.9260\n",
      "Epoch 41/42\n",
      "118/118 [==============================] - 0s 1ms/step - loss: 0.1624 - accuracy: 0.9274\n",
      "Epoch 42/42\n",
      "118/118 [==============================] - 0s 1ms/step - loss: 0.1624 - accuracy: 0.9290\n"
     ]
    },
    {
     "data": {
      "text/plain": [
       "<tensorflow.python.keras.callbacks.History at 0x2208ea52948>"
      ]
     },
     "execution_count": 48,
     "metadata": {},
     "output_type": "execute_result"
    }
   ],
   "source": [
    "hypermodel = tuner.hypermodel.build(best_hps)\n",
    "\n",
    "# Retrain the model\n",
    "hypermodel.fit(x_test, y_test, epochs=best_epoch)"
   ]
  },
  {
   "cell_type": "code",
   "execution_count": 49,
   "metadata": {
    "ExecuteTime": {
     "end_time": "2021-02-22T18:30:48.764811Z",
     "start_time": "2021-02-22T18:30:48.567311Z"
    }
   },
   "outputs": [
    {
     "name": "stdout",
     "output_type": "stream",
     "text": [
      "118/118 [==============================] - 0s 634us/step - loss: 0.1393 - accuracy: 0.9427\n",
      "[test loss, test accuracy]: [0.13930368423461914, 0.9427359700202942]\n"
     ]
    }
   ],
   "source": [
    "eval_result = hypermodel.evaluate(x_test, y_test)\n",
    "print(\"[test loss, test accuracy]:\", eval_result)"
   ]
  },
  {
   "cell_type": "code",
   "execution_count": null,
   "metadata": {},
   "outputs": [],
   "source": [
    "# calculating total loss by each model.\n",
    "data_new  = pd.read_excel(\"Win_Prediction_Data.xlsx\")\n",
    "\n",
    "def loss(y_train,y_test,y_train_pred,y_test_pred,data):\n",
    "    \n",
    "    ind_test = y_test[y_test!= y_test_pred].index\n",
    "    ind_train = y_train[y_train!= y_train_pred].index\n",
    "    training_loss = data['Deal Cost'].iloc[ind_test[ind_test<len(data)]].sum()\n",
    "    testing_loss = data['Deal Cost'].iloc[ind_train[ind_train<len(data)]].sum()\n",
    "    total_loss = training_loss + testing_loss\n",
    "    return total_loss\n",
    "loss_by_logistic_model = loss(y_train,y_test,logit_y_train_pred,logit_y_test_pred,data_new)\n",
    "loss_by_randomforest_model = loss(y_train,y_test,rf_y_train_pred,rf_y_test_pred,data_new)\n",
    "loss_by_gradientboost_model = loss(y_train,y_test,gb_y_train_pred,gb_y_test_pred,data_new)"
   ]
  },
  {
   "cell_type": "code",
   "execution_count": null,
   "metadata": {},
   "outputs": [],
   "source": []
  },
  {
   "cell_type": "code",
   "execution_count": null,
   "metadata": {},
   "outputs": [],
   "source": []
  }
 ],
 "metadata": {
  "kernelspec": {
   "display_name": "Python 3",
   "language": "python",
   "name": "python3"
  },
  "language_info": {
   "codemirror_mode": {
    "name": "ipython",
    "version": 3
   },
   "file_extension": ".py",
   "mimetype": "text/x-python",
   "name": "python",
   "nbconvert_exporter": "python",
   "pygments_lexer": "ipython3",
   "version": "3.8.3"
  },
  "varInspector": {
   "cols": {
    "lenName": 16,
    "lenType": 16,
    "lenVar": 40
   },
   "kernels_config": {
    "python": {
     "delete_cmd_postfix": "",
     "delete_cmd_prefix": "del ",
     "library": "var_list.py",
     "varRefreshCmd": "print(var_dic_list())"
    },
    "r": {
     "delete_cmd_postfix": ") ",
     "delete_cmd_prefix": "rm(",
     "library": "var_list.r",
     "varRefreshCmd": "cat(var_dic_list()) "
    }
   },
   "types_to_exclude": [
    "module",
    "function",
    "builtin_function_or_method",
    "instance",
    "_Feature"
   ],
   "window_display": false
  }
 },
 "nbformat": 4,
 "nbformat_minor": 4
}
